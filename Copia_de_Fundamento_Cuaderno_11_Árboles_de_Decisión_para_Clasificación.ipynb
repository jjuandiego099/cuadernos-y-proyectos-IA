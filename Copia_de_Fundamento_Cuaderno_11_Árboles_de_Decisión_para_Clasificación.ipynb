{
  "nbformat": 4,
  "nbformat_minor": 0,
  "metadata": {
    "colab": {
      "provenance": [],
      "include_colab_link": true
    },
    "kernelspec": {
      "name": "python3",
      "display_name": "Python 3"
    },
    "language_info": {
      "name": "python"
    }
  },
  "cells": [
    {
      "cell_type": "markdown",
      "metadata": {
        "id": "view-in-github",
        "colab_type": "text"
      },
      "source": [
        "<a href=\"https://colab.research.google.com/github/jjuandiego099/cuadernos-y-proyectos-IA/blob/main/Copia_de_Fundamento_Cuaderno_11_%C3%81rboles_de_Decisi%C3%B3n_para_Clasificaci%C3%B3n.ipynb\" target=\"_parent\"><img src=\"https://colab.research.google.com/assets/colab-badge.svg\" alt=\"Open In Colab\"/></a>"
      ]
    },
    {
      "cell_type": "markdown",
      "source": [
        "# <font color=\"red\">Cuaderno 11. Árboles de Decisión para Clasificación y regresión\n",
        "\n",
        "---\n",
        "\n",
        "\n",
        "## <font color=\"red\">11.1 Introducción\n",
        "Los árboles de decisión para clasificación y regresión son una técnica poderosa en el campo del aprendizaje supervisado. Se utilizan para predecir una variable categórica (o clase) a partir de un conjunto de variables predictoras. En lugar de seguir una fórmula matemática única, estos modelos dividen el espacio de los predictores en subregiones que son más homogéneas respecto a la clase objetivo. Esto se hace mediante una serie de decisiones binarias, basadas en los valores de los atributos, que conducen a un nodo terminal (hoja), donde se hace la predicción.\n",
        "\n",
        "El proceso de construcción de un árbol de decisión incluye la selección de puntos de corte o raiz en las variables para dividir el espacio muestral en subconjuntos. Existen varias estrategias para la creación de estos árboles, siendo las más comunes el Criterio de Impureza de Gini, la Entropía y el Cálculo de la Varianza. Los árboles de decisión pueden mejorar su desempeño mediante métodos como Random Forest y Gradient Boosting, que veremos en los siguiente cuadernos, estoa combinan múltiples árboles para reducir el sobreajuste (overfitting) y mejorar la generalización del modelo, llamados modelos ensamblados.\n",
        "\n",
        "\n",
        "## <font color=\"red\">11.2 ¿Cómo funciona un árbol de decisión para clasificación?\n",
        "Un árbol de decisión clasifica una observación siguiendo una serie de divisiones binarias basadas en las características de la muestra. El árbol comienza en un nodo raíz, donde se evalúan las características de los datos. A partir de ahí, las observaciones se dividen en diferentes ramas según las condiciones específicas establecidas para cada característica. Este proceso continúa hasta llegar a un nodo terminal, que es el que asigna una clase a la observación.\n",
        "\n",
        "![imagen](https://github.com/adiacla/bigdata/blob/master/arbol.png?raw=true)\n",
        "\n",
        "Como se muestra en la imagen un nodo raiz se crea con un criterio de regla de decisión para aquel cuya horas de estudio son menores o iguales a 0.5 y mayores.\n",
        "Así sucesivamente el arbol irá creando ramas de manera recursiva hasta llegar a las hojas donde asigna la etiquete a los registros que cumplen la condición.\n",
        "\n",
        "* División inicial: En el nodo raíz, el árbol evalúa la primera condición, por ejemplo, si el valor de una variable es mayor o menor que un umbral específico.\n",
        "\n",
        " Dependiendo del resultado, la observación se dirige por una rama a otro nodo.\n",
        "\n",
        "* División recursiva: El proceso de división continúa recursivamente en cada nuevo nodo. En cada nodo, se evalúa una nueva condición para una característica diferente.\n",
        "\n",
        "* Nodo terminal: Cuando ya no es posible dividir más las observaciones (o cuando se alcanza un umbral de profundidad del árbol), el nodo terminal asigna la clase más frecuente entre las observaciones que llegaron a ese nodo.\n",
        "\n",
        "### <font color=\"blue\">11.2.1 Métodos para seleccionar las divisiones\n",
        "\n",
        "Para decidir en qué punto dividir las observaciones, se utilizan criterios de división. Los más comunes son:\n",
        "\n",
        "* **Gini Impurity:** Mide la impureza de un nodo. Cuanto menor sea la impureza, más homogénea será la clase en ese nodo. El objetivo es dividir el nodo de manera que las subregiones sean lo más puras posibles, es decir, que todas las observaciones dentro de un nodo terminal pertenezcan a la misma clase.\n",
        "\n",
        "  Formula del Gini Impurity para una clase $K$ es:\n",
        "\n",
        "  $Gini(t) = 1 - ∑_{k=1}^{K} p_k^2$\n",
        "\n",
        "  donde $p_k$ es la proporción de observaciones de la clase $k$ en el nodo $t$.\n",
        "\n",
        "* **Entropía (Cruzada de Shannon)**: La entropía mide la cantidad de desorden o incertidumbre en una división. La idea es reducir la entropía de un conjunto de datos mediante la división en nodos más homogéneos.\n",
        "La fórmula de la entropía es:\n",
        "  $Entropía(t) = - ∑_{k=1}^{K} p_k \\log_2(p_k)$\n",
        "\n",
        "  donde $p_k$ es la probabilidad de observar la clase $k$ en el nodo $t$.\n",
        "\n",
        "* **Índice de Gini vs Entropía**: Ambos criterios se utilizan para elegir el mejor punto de corte, aunque el índice de Gini es más popular debido a su simplicidad y rapidez computacional. Sin embargo, la entropía tiende a ser más informativa en divisiones con muchas clases.\n",
        "\n",
        "### <font color=\"blue\">11.2.2 Ventajas de los árboles de decisión para clasificación\n",
        "* Interpretabilidad: Los árboles de decisión son modelos muy fáciles de interpretar y visualizar. Cada nodo y rama representan una regla de decisión que puede explicarse fácilmente.\n",
        "* No requieren normalización de los datos: A diferencia de otros modelos como las máquinas de soporte vectorial (SVM) o las regresiones lineales, los árboles de decisión no requieren que los datos sean normalizados o estandarizados.\n",
        "* Manejo de datos categóricos y numéricos: Los árboles pueden manejar tanto variables numéricas como categóricas sin necesidad de transformarlas (por ejemplo, a variables dummy).\n",
        "* Resistencia a los valores atípicos: Los árboles no se ven muy afectados por outliers, ya que los puntos extremos no suelen influir en el valor de la división.\n",
        "* Automática selección de variables importantes: Los árboles de decisión pueden identificar qué variables son más relevantes para la clasificación.\n",
        "\n",
        "### <font color=\"blue\">11.2.3 Desventajas de los árboles de decisión para clasificación\n",
        "* Overfitting: Los árboles de decisión tienden a sobreajustarse a los datos de entrenamiento, especialmente cuando se permiten árboles muy profundos. Esto se debe a que pueden aprender detalles muy específicos que no generalizan bien a nuevos datos.\n",
        "* Inestabilidad: Un pequeño cambio en los datos de entrenamiento puede llevar a una estructura de árbol completamente diferente.\n",
        "* Modelo sesgado en clases desbalanceadas: Si los datos están desbalanceados, el árbol puede predecir predominantemente la clase mayoritaria.\n",
        "\n",
        "\n",
        "#### <font color=\"blue\">11.2.4 Estrategias para evitar el overfitting\n",
        "Existen varias técnicas que se pueden aplicar para reducir el sobreajuste en árboles de decisión:\n",
        "* Poda (Pruning): La poda elimina ramas del árbol que tienen poca importancia o que sobreajustan los datos. Se pueden usar métodos como el Cost Complexity Pruning para realizar una poda que elimine ramas que no mejoren significativamente la precisión del modelo.\n",
        "* Limitación de la profundidad del árbol: Limitar la profundidad máxima del árbol es una forma sencilla de evitar que el árbol crezca demasiado, lo que podría llevar a un sobreajuste.\n",
        "* Mínimo número de muestras por hoja: Establecer un número mínimo de observaciones para permitir una división en cada nodo o para que un nodo sea terminal puede ayudar a evitar divisiones demasiado específicas.\n",
        "* Métodos de ensamblaje: Técnicas como Random Forest y Gradient Boosting combinan múltiples árboles de decisión para mejorar la robustez y reducir el riesgo de sobreajuste.\n",
        "\n",
        "\n",
        "---\n",
        "\n",
        "\n",
        "## <font color=\"red\">11.3 Ejercicio de Construcción, Evaluación y Visualización de un Árbol de Decisión para Clasificación\n",
        "\n",
        "En este ejercicio vamos a usar las librerias de sklearn sklearn.tree (https://scikit-learn.org/stable/api/sklearn.tree.html)\n",
        "\n",
        "#### Paso 1:  Preparación del conjunto de datos y codificación\n",
        "Primero, creamos el conjunto de datos con variables categóricas y las codificamos para que puedan ser utilizadas en el modelo.\n",
        "\n",
        "\n",
        "\n"
      ],
      "metadata": {
        "id": "X4UQkucY1sPn"
      }
    },
    {
      "cell_type": "code",
      "execution_count": null,
      "metadata": {
        "id": "yi1CG3j11hJL",
        "colab": {
          "base_uri": "https://localhost:8080/",
          "height": 268
        },
        "outputId": "a7ebb72e-2332-4127-f168-8cae3964c636"
      },
      "outputs": [
        {
          "output_type": "execute_result",
          "data": {
            "text/plain": [
              "  Horas de Estudio Asistencia Resultado\n",
              "0             Alta      Buena        Sí\n",
              "1             Baja      Buena        No\n",
              "2             Baja       Mala        No\n",
              "3             Alta       Mala        Sí\n",
              "4             Alta      Buena        Sí\n",
              "5             Baja      Buena        No\n",
              "6             Alta       Mala        No"
            ],
            "text/html": [
              "\n",
              "  <div id=\"df-fcec1f01-db5b-4223-a6c7-fb5f601ee18b\" class=\"colab-df-container\">\n",
              "    <div>\n",
              "<style scoped>\n",
              "    .dataframe tbody tr th:only-of-type {\n",
              "        vertical-align: middle;\n",
              "    }\n",
              "\n",
              "    .dataframe tbody tr th {\n",
              "        vertical-align: top;\n",
              "    }\n",
              "\n",
              "    .dataframe thead th {\n",
              "        text-align: right;\n",
              "    }\n",
              "</style>\n",
              "<table border=\"1\" class=\"dataframe\">\n",
              "  <thead>\n",
              "    <tr style=\"text-align: right;\">\n",
              "      <th></th>\n",
              "      <th>Horas de Estudio</th>\n",
              "      <th>Asistencia</th>\n",
              "      <th>Resultado</th>\n",
              "    </tr>\n",
              "  </thead>\n",
              "  <tbody>\n",
              "    <tr>\n",
              "      <th>0</th>\n",
              "      <td>Alta</td>\n",
              "      <td>Buena</td>\n",
              "      <td>Sí</td>\n",
              "    </tr>\n",
              "    <tr>\n",
              "      <th>1</th>\n",
              "      <td>Baja</td>\n",
              "      <td>Buena</td>\n",
              "      <td>No</td>\n",
              "    </tr>\n",
              "    <tr>\n",
              "      <th>2</th>\n",
              "      <td>Baja</td>\n",
              "      <td>Mala</td>\n",
              "      <td>No</td>\n",
              "    </tr>\n",
              "    <tr>\n",
              "      <th>3</th>\n",
              "      <td>Alta</td>\n",
              "      <td>Mala</td>\n",
              "      <td>Sí</td>\n",
              "    </tr>\n",
              "    <tr>\n",
              "      <th>4</th>\n",
              "      <td>Alta</td>\n",
              "      <td>Buena</td>\n",
              "      <td>Sí</td>\n",
              "    </tr>\n",
              "    <tr>\n",
              "      <th>5</th>\n",
              "      <td>Baja</td>\n",
              "      <td>Buena</td>\n",
              "      <td>No</td>\n",
              "    </tr>\n",
              "    <tr>\n",
              "      <th>6</th>\n",
              "      <td>Alta</td>\n",
              "      <td>Mala</td>\n",
              "      <td>No</td>\n",
              "    </tr>\n",
              "  </tbody>\n",
              "</table>\n",
              "</div>\n",
              "    <div class=\"colab-df-buttons\">\n",
              "\n",
              "  <div class=\"colab-df-container\">\n",
              "    <button class=\"colab-df-convert\" onclick=\"convertToInteractive('df-fcec1f01-db5b-4223-a6c7-fb5f601ee18b')\"\n",
              "            title=\"Convert this dataframe to an interactive table.\"\n",
              "            style=\"display:none;\">\n",
              "\n",
              "  <svg xmlns=\"http://www.w3.org/2000/svg\" height=\"24px\" viewBox=\"0 -960 960 960\">\n",
              "    <path d=\"M120-120v-720h720v720H120Zm60-500h600v-160H180v160Zm220 220h160v-160H400v160Zm0 220h160v-160H400v160ZM180-400h160v-160H180v160Zm440 0h160v-160H620v160ZM180-180h160v-160H180v160Zm440 0h160v-160H620v160Z\"/>\n",
              "  </svg>\n",
              "    </button>\n",
              "\n",
              "  <style>\n",
              "    .colab-df-container {\n",
              "      display:flex;\n",
              "      gap: 12px;\n",
              "    }\n",
              "\n",
              "    .colab-df-convert {\n",
              "      background-color: #E8F0FE;\n",
              "      border: none;\n",
              "      border-radius: 50%;\n",
              "      cursor: pointer;\n",
              "      display: none;\n",
              "      fill: #1967D2;\n",
              "      height: 32px;\n",
              "      padding: 0 0 0 0;\n",
              "      width: 32px;\n",
              "    }\n",
              "\n",
              "    .colab-df-convert:hover {\n",
              "      background-color: #E2EBFA;\n",
              "      box-shadow: 0px 1px 2px rgba(60, 64, 67, 0.3), 0px 1px 3px 1px rgba(60, 64, 67, 0.15);\n",
              "      fill: #174EA6;\n",
              "    }\n",
              "\n",
              "    .colab-df-buttons div {\n",
              "      margin-bottom: 4px;\n",
              "    }\n",
              "\n",
              "    [theme=dark] .colab-df-convert {\n",
              "      background-color: #3B4455;\n",
              "      fill: #D2E3FC;\n",
              "    }\n",
              "\n",
              "    [theme=dark] .colab-df-convert:hover {\n",
              "      background-color: #434B5C;\n",
              "      box-shadow: 0px 1px 3px 1px rgba(0, 0, 0, 0.15);\n",
              "      filter: drop-shadow(0px 1px 2px rgba(0, 0, 0, 0.3));\n",
              "      fill: #FFFFFF;\n",
              "    }\n",
              "  </style>\n",
              "\n",
              "    <script>\n",
              "      const buttonEl =\n",
              "        document.querySelector('#df-fcec1f01-db5b-4223-a6c7-fb5f601ee18b button.colab-df-convert');\n",
              "      buttonEl.style.display =\n",
              "        google.colab.kernel.accessAllowed ? 'block' : 'none';\n",
              "\n",
              "      async function convertToInteractive(key) {\n",
              "        const element = document.querySelector('#df-fcec1f01-db5b-4223-a6c7-fb5f601ee18b');\n",
              "        const dataTable =\n",
              "          await google.colab.kernel.invokeFunction('convertToInteractive',\n",
              "                                                    [key], {});\n",
              "        if (!dataTable) return;\n",
              "\n",
              "        const docLinkHtml = 'Like what you see? Visit the ' +\n",
              "          '<a target=\"_blank\" href=https://colab.research.google.com/notebooks/data_table.ipynb>data table notebook</a>'\n",
              "          + ' to learn more about interactive tables.';\n",
              "        element.innerHTML = '';\n",
              "        dataTable['output_type'] = 'display_data';\n",
              "        await google.colab.output.renderOutput(dataTable, element);\n",
              "        const docLink = document.createElement('div');\n",
              "        docLink.innerHTML = docLinkHtml;\n",
              "        element.appendChild(docLink);\n",
              "      }\n",
              "    </script>\n",
              "  </div>\n",
              "\n",
              "\n",
              "<div id=\"df-c799f246-3c0c-4bce-a509-e4c4dbb49fb6\">\n",
              "  <button class=\"colab-df-quickchart\" onclick=\"quickchart('df-c799f246-3c0c-4bce-a509-e4c4dbb49fb6')\"\n",
              "            title=\"Suggest charts\"\n",
              "            style=\"display:none;\">\n",
              "\n",
              "<svg xmlns=\"http://www.w3.org/2000/svg\" height=\"24px\"viewBox=\"0 0 24 24\"\n",
              "     width=\"24px\">\n",
              "    <g>\n",
              "        <path d=\"M19 3H5c-1.1 0-2 .9-2 2v14c0 1.1.9 2 2 2h14c1.1 0 2-.9 2-2V5c0-1.1-.9-2-2-2zM9 17H7v-7h2v7zm4 0h-2V7h2v10zm4 0h-2v-4h2v4z\"/>\n",
              "    </g>\n",
              "</svg>\n",
              "  </button>\n",
              "\n",
              "<style>\n",
              "  .colab-df-quickchart {\n",
              "      --bg-color: #E8F0FE;\n",
              "      --fill-color: #1967D2;\n",
              "      --hover-bg-color: #E2EBFA;\n",
              "      --hover-fill-color: #174EA6;\n",
              "      --disabled-fill-color: #AAA;\n",
              "      --disabled-bg-color: #DDD;\n",
              "  }\n",
              "\n",
              "  [theme=dark] .colab-df-quickchart {\n",
              "      --bg-color: #3B4455;\n",
              "      --fill-color: #D2E3FC;\n",
              "      --hover-bg-color: #434B5C;\n",
              "      --hover-fill-color: #FFFFFF;\n",
              "      --disabled-bg-color: #3B4455;\n",
              "      --disabled-fill-color: #666;\n",
              "  }\n",
              "\n",
              "  .colab-df-quickchart {\n",
              "    background-color: var(--bg-color);\n",
              "    border: none;\n",
              "    border-radius: 50%;\n",
              "    cursor: pointer;\n",
              "    display: none;\n",
              "    fill: var(--fill-color);\n",
              "    height: 32px;\n",
              "    padding: 0;\n",
              "    width: 32px;\n",
              "  }\n",
              "\n",
              "  .colab-df-quickchart:hover {\n",
              "    background-color: var(--hover-bg-color);\n",
              "    box-shadow: 0 1px 2px rgba(60, 64, 67, 0.3), 0 1px 3px 1px rgba(60, 64, 67, 0.15);\n",
              "    fill: var(--button-hover-fill-color);\n",
              "  }\n",
              "\n",
              "  .colab-df-quickchart-complete:disabled,\n",
              "  .colab-df-quickchart-complete:disabled:hover {\n",
              "    background-color: var(--disabled-bg-color);\n",
              "    fill: var(--disabled-fill-color);\n",
              "    box-shadow: none;\n",
              "  }\n",
              "\n",
              "  .colab-df-spinner {\n",
              "    border: 2px solid var(--fill-color);\n",
              "    border-color: transparent;\n",
              "    border-bottom-color: var(--fill-color);\n",
              "    animation:\n",
              "      spin 1s steps(1) infinite;\n",
              "  }\n",
              "\n",
              "  @keyframes spin {\n",
              "    0% {\n",
              "      border-color: transparent;\n",
              "      border-bottom-color: var(--fill-color);\n",
              "      border-left-color: var(--fill-color);\n",
              "    }\n",
              "    20% {\n",
              "      border-color: transparent;\n",
              "      border-left-color: var(--fill-color);\n",
              "      border-top-color: var(--fill-color);\n",
              "    }\n",
              "    30% {\n",
              "      border-color: transparent;\n",
              "      border-left-color: var(--fill-color);\n",
              "      border-top-color: var(--fill-color);\n",
              "      border-right-color: var(--fill-color);\n",
              "    }\n",
              "    40% {\n",
              "      border-color: transparent;\n",
              "      border-right-color: var(--fill-color);\n",
              "      border-top-color: var(--fill-color);\n",
              "    }\n",
              "    60% {\n",
              "      border-color: transparent;\n",
              "      border-right-color: var(--fill-color);\n",
              "    }\n",
              "    80% {\n",
              "      border-color: transparent;\n",
              "      border-right-color: var(--fill-color);\n",
              "      border-bottom-color: var(--fill-color);\n",
              "    }\n",
              "    90% {\n",
              "      border-color: transparent;\n",
              "      border-bottom-color: var(--fill-color);\n",
              "    }\n",
              "  }\n",
              "</style>\n",
              "\n",
              "  <script>\n",
              "    async function quickchart(key) {\n",
              "      const quickchartButtonEl =\n",
              "        document.querySelector('#' + key + ' button');\n",
              "      quickchartButtonEl.disabled = true;  // To prevent multiple clicks.\n",
              "      quickchartButtonEl.classList.add('colab-df-spinner');\n",
              "      try {\n",
              "        const charts = await google.colab.kernel.invokeFunction(\n",
              "            'suggestCharts', [key], {});\n",
              "      } catch (error) {\n",
              "        console.error('Error during call to suggestCharts:', error);\n",
              "      }\n",
              "      quickchartButtonEl.classList.remove('colab-df-spinner');\n",
              "      quickchartButtonEl.classList.add('colab-df-quickchart-complete');\n",
              "    }\n",
              "    (() => {\n",
              "      let quickchartButtonEl =\n",
              "        document.querySelector('#df-c799f246-3c0c-4bce-a509-e4c4dbb49fb6 button');\n",
              "      quickchartButtonEl.style.display =\n",
              "        google.colab.kernel.accessAllowed ? 'block' : 'none';\n",
              "    })();\n",
              "  </script>\n",
              "</div>\n",
              "\n",
              "  <div id=\"id_4926739c-36df-4498-9e74-e16ddda79ba6\">\n",
              "    <style>\n",
              "      .colab-df-generate {\n",
              "        background-color: #E8F0FE;\n",
              "        border: none;\n",
              "        border-radius: 50%;\n",
              "        cursor: pointer;\n",
              "        display: none;\n",
              "        fill: #1967D2;\n",
              "        height: 32px;\n",
              "        padding: 0 0 0 0;\n",
              "        width: 32px;\n",
              "      }\n",
              "\n",
              "      .colab-df-generate:hover {\n",
              "        background-color: #E2EBFA;\n",
              "        box-shadow: 0px 1px 2px rgba(60, 64, 67, 0.3), 0px 1px 3px 1px rgba(60, 64, 67, 0.15);\n",
              "        fill: #174EA6;\n",
              "      }\n",
              "\n",
              "      [theme=dark] .colab-df-generate {\n",
              "        background-color: #3B4455;\n",
              "        fill: #D2E3FC;\n",
              "      }\n",
              "\n",
              "      [theme=dark] .colab-df-generate:hover {\n",
              "        background-color: #434B5C;\n",
              "        box-shadow: 0px 1px 3px 1px rgba(0, 0, 0, 0.15);\n",
              "        filter: drop-shadow(0px 1px 2px rgba(0, 0, 0, 0.3));\n",
              "        fill: #FFFFFF;\n",
              "      }\n",
              "    </style>\n",
              "    <button class=\"colab-df-generate\" onclick=\"generateWithVariable('df')\"\n",
              "            title=\"Generate code using this dataframe.\"\n",
              "            style=\"display:none;\">\n",
              "\n",
              "  <svg xmlns=\"http://www.w3.org/2000/svg\" height=\"24px\"viewBox=\"0 0 24 24\"\n",
              "       width=\"24px\">\n",
              "    <path d=\"M7,19H8.4L18.45,9,17,7.55,7,17.6ZM5,21V16.75L18.45,3.32a2,2,0,0,1,2.83,0l1.4,1.43a1.91,1.91,0,0,1,.58,1.4,1.91,1.91,0,0,1-.58,1.4L9.25,21ZM18.45,9,17,7.55Zm-12,3A5.31,5.31,0,0,0,4.9,8.1,5.31,5.31,0,0,0,1,6.5,5.31,5.31,0,0,0,4.9,4.9,5.31,5.31,0,0,0,6.5,1,5.31,5.31,0,0,0,8.1,4.9,5.31,5.31,0,0,0,12,6.5,5.46,5.46,0,0,0,6.5,12Z\"/>\n",
              "  </svg>\n",
              "    </button>\n",
              "    <script>\n",
              "      (() => {\n",
              "      const buttonEl =\n",
              "        document.querySelector('#id_4926739c-36df-4498-9e74-e16ddda79ba6 button.colab-df-generate');\n",
              "      buttonEl.style.display =\n",
              "        google.colab.kernel.accessAllowed ? 'block' : 'none';\n",
              "\n",
              "      buttonEl.onclick = () => {\n",
              "        google.colab.notebook.generateWithVariable('df');\n",
              "      }\n",
              "      })();\n",
              "    </script>\n",
              "  </div>\n",
              "\n",
              "    </div>\n",
              "  </div>\n"
            ],
            "application/vnd.google.colaboratory.intrinsic+json": {
              "type": "dataframe",
              "variable_name": "df",
              "summary": "{\n  \"name\": \"df\",\n  \"rows\": 7,\n  \"fields\": [\n    {\n      \"column\": \"Horas de Estudio\",\n      \"properties\": {\n        \"dtype\": \"category\",\n        \"num_unique_values\": 2,\n        \"samples\": [\n          \"Baja\",\n          \"Alta\"\n        ],\n        \"semantic_type\": \"\",\n        \"description\": \"\"\n      }\n    },\n    {\n      \"column\": \"Asistencia\",\n      \"properties\": {\n        \"dtype\": \"category\",\n        \"num_unique_values\": 2,\n        \"samples\": [\n          \"Mala\",\n          \"Buena\"\n        ],\n        \"semantic_type\": \"\",\n        \"description\": \"\"\n      }\n    },\n    {\n      \"column\": \"Resultado\",\n      \"properties\": {\n        \"dtype\": \"category\",\n        \"num_unique_values\": 2,\n        \"samples\": [\n          \"No\",\n          \"S\\u00ed\"\n        ],\n        \"semantic_type\": \"\",\n        \"description\": \"\"\n      }\n    }\n  ]\n}"
            }
          },
          "metadata": {},
          "execution_count": 1
        }
      ],
      "source": [
        "import pandas as pd\n",
        "from sklearn.preprocessing import LabelEncoder\n",
        "from sklearn.tree import DecisionTreeClassifier, plot_tree\n",
        "from sklearn.model_selection import train_test_split\n",
        "from sklearn.metrics import accuracy_score, confusion_matrix, roc_auc_score, roc_curve\n",
        "import matplotlib.pyplot as plt\n",
        "import numpy as np\n",
        "\n",
        "\n",
        "# Crear el conjunto de datos\n",
        "data = {\n",
        "    \"Horas de Estudio\": [\"Alta\", \"Baja\", \"Baja\", \"Alta\", \"Alta\",\"Baja\", \"Alta\", ],\n",
        "    \"Asistencia\": [\"Buena\", \"Buena\", \"Mala\", \"Mala\", \"Buena\",\"Buena\", \"Mala\",],\n",
        "    \"Resultado\": [\"Sí\", \"No\", \"No\", \"Sí\", \"Sí\",\"No\", \"No\",]\n",
        "}\n",
        "\n",
        "df = pd.DataFrame(data)\n",
        "df"
      ]
    },
    {
      "cell_type": "code",
      "source": [
        "# Codificar variables categóricas a numéricas\n",
        "encoder = LabelEncoder()\n",
        "df_encoded = df.apply(encoder.fit_transform)\n",
        "\n",
        "# Separar características y etiqueta\n",
        "X = df_encoded[[\"Horas de Estudio\", \"Asistencia\"]]\n",
        "y = df_encoded[\"Resultado\"]\n",
        "\n",
        "\n",
        "#Dado que son muy pocos datos no vamos a dividir en entrenamiento y pruebas, usaremos la data tanto para entrenar como para probar.\n"
      ],
      "metadata": {
        "id": "0mMFGZbffeOT"
      },
      "execution_count": null,
      "outputs": []
    },
    {
      "cell_type": "code",
      "source": [
        "X,y"
      ],
      "metadata": {
        "colab": {
          "base_uri": "https://localhost:8080/"
        },
        "id": "P7yfcAsRuYSr",
        "outputId": "2d304282-b51a-4b49-d1d0-c65bf93e960e"
      },
      "execution_count": null,
      "outputs": [
        {
          "output_type": "execute_result",
          "data": {
            "text/plain": [
              "(   Horas de Estudio  Asistencia\n",
              " 0                 0           0\n",
              " 1                 1           0\n",
              " 2                 1           1\n",
              " 3                 0           1\n",
              " 4                 0           0\n",
              " 5                 1           0\n",
              " 6                 0           1,\n",
              " 0    1\n",
              " 1    0\n",
              " 2    0\n",
              " 3    1\n",
              " 4    1\n",
              " 5    0\n",
              " 6    0\n",
              " Name: Resultado, dtype: int64)"
            ]
          },
          "metadata": {},
          "execution_count": 9
        }
      ]
    },
    {
      "cell_type": "markdown",
      "source": [
        "### Paso 2: Entrenamiento del Árbol de Decisión\n",
        "Ahora, entrenamos un Árbol de Decisión utilizando el conjunto de entrenamiento y hacemos las predicciones en el conjunto de prueba.\n"
      ],
      "metadata": {
        "id": "-dnPHX2j4WdH"
      }
    },
    {
      "cell_type": "code",
      "source": [
        "# Crear el modelo de Árbol de Decisión\n",
        "tree_clf = DecisionTreeClassifier(random_state=42)\n",
        "tree_clf.fit(X, y)\n",
        "\n",
        "# Hacer predicciones\n",
        "y_pred = tree_clf.predict(X)\n",
        "\n",
        "# Evaluación del modelo\n",
        "accuracy = accuracy_score(y, y_pred)\n",
        "conf_matrix = confusion_matrix(y, y_pred)\n"
      ],
      "metadata": {
        "id": "i4YpE1hj4Zh1"
      },
      "execution_count": null,
      "outputs": []
    },
    {
      "cell_type": "code",
      "source": [
        "# Imprimir los resultados\n",
        "print(\"Precisión del modelo:\", accuracy)\n",
        "print(\"Matriz de confusión:\\n\", conf_matrix)"
      ],
      "metadata": {
        "colab": {
          "base_uri": "https://localhost:8080/"
        },
        "id": "3w6gDnMx_fQJ",
        "outputId": "6cf2b94a-744f-4eba-ce3f-b42e5d3a627c"
      },
      "execution_count": null,
      "outputs": [
        {
          "output_type": "stream",
          "name": "stdout",
          "text": [
            "Precisión del modelo: 0.8571428571428571\n",
            "Matriz de confusión:\n",
            " [[4 0]\n",
            " [1 2]]\n"
          ]
        }
      ]
    },
    {
      "cell_type": "code",
      "source": [
        "# Verificar si hay más de una clase en y_test para calcular el ROC AUC\n",
        "if len(np.unique(y)) > 1:\n",
        "    roc_auc = roc_auc_score(y, tree_clf.predict_proba(X)[:, 1])\n",
        "else:\n",
        "    roc_auc = \"No se puede calcular ROC AUC (solo una clase en y_test)\"\n",
        "\n",
        "\n",
        "print(\"Área bajo la curva ROC:\", roc_auc)"
      ],
      "metadata": {
        "colab": {
          "base_uri": "https://localhost:8080/"
        },
        "id": "PdgmPo7etEmG",
        "outputId": "d6ba36b4-7c0b-4829-dd14-151499b77d41"
      },
      "execution_count": null,
      "outputs": [
        {
          "output_type": "stream",
          "name": "stdout",
          "text": [
            "Área bajo la curva ROC: 0.9583333333333333\n"
          ]
        }
      ]
    },
    {
      "cell_type": "code",
      "source": [
        "#Grafique la matriz confusión en mapa de calor con seaborn\n",
        "import seaborn as sns\n",
        "sns.heatmap(conf_matrix, annot=True, fmt='d', cmap='Blues')\n",
        "plt.xlabel('Predicción')\n",
        "plt.ylabel('Valor Real')\n",
        "plt.title('Matriz de Confusión')\n",
        "plt.show()"
      ],
      "metadata": {
        "colab": {
          "base_uri": "https://localhost:8080/",
          "height": 472
        },
        "id": "X4EWaAmUtRA9",
        "outputId": "68424449-5c69-410f-e6a4-a98e5766301b"
      },
      "execution_count": null,
      "outputs": [
        {
          "output_type": "display_data",
          "data": {
            "text/plain": [
              "<Figure size 640x480 with 2 Axes>"
            ],
            "image/png": "[encoded data removed]"
          },
          "metadata": {}
        }
      ]
    },
    {
      "cell_type": "markdown",
      "source": [
        "### Paso 3: Visualización del Árbol de Decisión\n",
        "A continuación, visualizamos el árbol de decisión entrenado para entender cómo se están realizando las predicciones.\n"
      ],
      "metadata": {
        "id": "x3U3Ub1m4cTd"
      }
    },
    {
      "cell_type": "code",
      "source": [
        "# Graficar el árbol de decisión\n",
        "plt.figure(figsize=(10, 8))\n",
        "plot_tree(tree_clf, filled=True, feature_names=[\"Horas de Estudio\", \"Asistencia\"], class_names=[\"No\", \"Sí\"], rounded=True, fontsize=12)\n",
        "plt.title(\"Árbol de Decisión\")\n",
        "plt.show()\n"
      ],
      "metadata": {
        "colab": {
          "base_uri": "https://localhost:8080/",
          "height": 675
        },
        "id": "FCiOD7gq4f_N",
        "outputId": "8fe1318c-462c-45ab-a794-ec72f288cd77"
      },
      "execution_count": null,
      "outputs": [
        {
          "output_type": "display_data",
          "data": {
            "text/plain": [
              "<Figure size 1000x800 with 1 Axes>"
            ],
            "image/png": "[encoded data removed]"
          },
          "metadata": {}
        }
      ]
    },
    {
      "cell_type": "markdown",
      "source": [
        "### Paso 4: Curva ROC\n",
        "Finalmente, calculamos y graficamos la curva ROC para evaluar el rendimiento del modelo a través de diferentes umbrales de clasificación."
      ],
      "metadata": {
        "id": "y-X1HFzc4i79"
      }
    },
    {
      "cell_type": "code",
      "source": [
        "# Curva ROC\n",
        "fpr, tpr, thresholds = roc_curve(y_test, tree_clf.predict_proba(X_test)[:, 1])\n",
        "plt.plot(fpr, tpr, color='blue')\n",
        "plt.plot([0, 1], [0, 1], color='gray', linestyle='--')\n",
        "plt.title('Curva ROC')\n",
        "plt.xlabel('Tasa de Falsos Positivos')\n",
        "plt.ylabel('Tasa de Verdaderos Positivos')\n",
        "plt.show()\n"
      ],
      "metadata": {
        "colab": {
          "base_uri": "https://localhost:8080/",
          "height": 472
        },
        "id": "wGFA4K944k-z",
        "outputId": "bdd6eaf0-3959-46f7-c23b-b0c78aafbd11"
      },
      "execution_count": null,
      "outputs": [
        {
          "output_type": "display_data",
          "data": {
            "text/plain": [
              "<Figure size 640x480 with 1 Axes>"
            ],
            "image/png": "[encoded data removed]"
          },
          "metadata": {}
        }
      ]
    },
    {
      "cell_type": "markdown",
      "source": [
        "### Resumen de los resultados\n",
        "Precisión del modelo: Calculada con la función accuracy_score.\n",
        "\n",
        "Matriz de confusión: Evaluación detallada de las predicciones (verdaderos positivos, falsos positivos, etc.).\n",
        "\n",
        "Área bajo la curva ROC: Medida de rendimiento del modelo en función de su capacidad para distinguir entre las clases.\n",
        "\n",
        "Curva ROC: Visualización gráfica del rendimiento del modelo con diferentes umbrales de decisión.\n",
        "\n",
        "---\n",
        "\n",
        "## <font color=\"red\">11.5 Segundo ejercicio on Arboles de Decisión el tema de problemas cardiacos\n",
        "\n",
        "### Paso 1: Cargar y preprocesar los datos\n",
        "Primero, cargamos el conjunto de datos, verificamos los valores faltantes y luego realizamos la imputación de los valores faltantes con la mediana. También convertimos la variable categórica Sexo a valores numéricos (0 para masculino y 1 para femenino)."
      ],
      "metadata": {
        "id": "gyPy2Rmi4ncN"
      }
    },
    {
      "cell_type": "code",
      "source": [
        "import pandas as pd\n",
        "from sklearn.preprocessing import LabelEncoder\n",
        "from sklearn.model_selection import train_test_split\n",
        "from sklearn.tree import DecisionTreeClassifier, plot_tree\n",
        "from sklearn.metrics import accuracy_score, confusion_matrix, roc_auc_score, roc_curve\n",
        "import matplotlib.pyplot as plt\n",
        "import numpy as np\n",
        "\n",
        "\n",
        "# Cargar el dataset\n",
        "url = \"https://raw.githubusercontent.com/adiacla/bigdata/refs/heads/master/pacientes.csv\"\n",
        "df_patients = pd.read_csv(url)\n",
        "\n",
        "# Verificar las columnas disponibles\n",
        "print(\"Columnas disponibles en el dataset:\", df_patients.columns.tolist())\n",
        "\n",
        "# Imputar valores faltantes con la mediana\n",
        "df_patients = df_patients.fillna(df_patients.median(numeric_only=True))\n",
        "label_col_name='problema_cardiaco'\n",
        "\n"
      ],
      "metadata": {
        "id": "VfXssAfM5qU5"
      },
      "execution_count": null,
      "outputs": []
    },
    {
      "cell_type": "code",
      "source": [
        "# Separar las características y la etiqueta\n",
        "X = df_patients.drop(columns=[label_col_name])\n",
        "y = df_patients[label_col_name]\n",
        "\n",
        "# Dividir el conjunto de datos en entrenamiento y prueba\n",
        "X_train, X_test, y_train, y_test = train_test_split(X, y, test_size=0.2, random_state=42, stratify=y)\n",
        "\n",
        "print(\"División de datos completada:\")\n",
        "print(f\"Entrenamiento: {X_train.shape[0]} registros\")\n",
        "print(f\"Prueba: {X_test.shape[0]} registros\")"
      ],
      "metadata": {
        "id": "qBBOnDzMgasq"
      },
      "execution_count": null,
      "outputs": []
    },
    {
      "cell_type": "markdown",
      "source": [
        "### Paso 2: Entrenamiento del Árbol de Decisión\n",
        "Entrenamos un Árbol de Decisión con el conjunto de entrenamiento. Para la clasificación, utilizamos el DecisionTreeClassifier de Scikit-learn."
      ],
      "metadata": {
        "id": "qElK3oSC5s9C"
      }
    },
    {
      "cell_type": "code",
      "source": [
        "# Crear el modelo de Árbol de Decisión\n",
        "tree_clf = DecisionTreeClassifier(random_state=42)\n",
        "tree_clf.fit(X_train, y_train)\n",
        "\n",
        "# Hacer predicciones\n",
        "y_pred = tree_clf.predict(X_test)"
      ],
      "metadata": {
        "id": "jtsLbYCc5uyP"
      },
      "execution_count": null,
      "outputs": []
    },
    {
      "cell_type": "markdown",
      "source": [
        "### Paso 3: Evaluación del modelo\n",
        "Evaluamos el rendimiento del modelo utilizando varias métricas: precisión, matriz de confusión y área bajo la curva ROC (AUC). También graficamos la curva ROC.\n"
      ],
      "metadata": {
        "id": "QtdO46Lv6DP6"
      }
    },
    {
      "cell_type": "code",
      "source": [
        "# Evaluación del modelo\n",
        "accuracy = accuracy_score(y_test, y_pred)\n",
        "conf_matrix = confusion_matrix(y_test, y_pred)\n",
        "roc_auc = roc_auc_score(y_test, tree_clf.predict_proba(X_test)[:, 1])\n",
        "\n",
        "# Imprimir los resultados\n",
        "print(\"Precisión del modelo:\", accuracy)\n",
        "print(\"Matriz de confusión:\\n\", conf_matrix)\n",
        "print(\"Área bajo la curva ROC:\", roc_auc)\n",
        "\n",
        "# Curva ROC\n",
        "fpr, tpr, thresholds = roc_curve(y_test, tree_clf.predict_proba(X_test)[:, 1])\n",
        "plt.plot(fpr, tpr, color='blue')\n",
        "plt.plot([0, 1], [0, 1], color='gray', linestyle='--')\n",
        "plt.title('Curva ROC')\n",
        "plt.xlabel('Tasa de Falsos Positivos')\n",
        "plt.ylabel('Tasa de Verdaderos Positivos')\n",
        "plt.show()"
      ],
      "metadata": {
        "id": "HyodfdtD6Fw6"
      },
      "execution_count": null,
      "outputs": []
    },
    {
      "cell_type": "markdown",
      "source": [
        "### Paso 4: Visualización del Árbol de Decisión\n",
        "Utilizamos la función plot_tree para visualizar el árbol de decisión y entender cómo se toman las decisiones en función de las características.\n"
      ],
      "metadata": {
        "id": "cWrEpNTR6KWK"
      }
    },
    {
      "cell_type": "code",
      "source": [
        "# Graficar el árbol de decisión\n",
        "plt.figure(figsize=(30, 30))\n",
        "plot_tree(tree_clf, filled=True, feature_names=X.columns, class_names=['No','Si'], rounded=True, fontsize=12)\n",
        "plt.title(\"Árbol de Decisión\")\n",
        "plt.show()\n"
      ],
      "metadata": {
        "id": "7avnasfk6NEq"
      },
      "execution_count": null,
      "outputs": []
    },
    {
      "cell_type": "markdown",
      "source": [
        "### Resumen del flujo:\n",
        "Carga y preprocesamiento: Se cargan los datos y se manejan los valores faltantes (con la mediana), y se convierten las variables categóricas a numéricas.\n",
        "\n",
        "Entrenamiento: El modelo de Árbol de Decisión es entrenado utilizando el conjunto de entrenamiento.\n",
        "\n",
        "Evaluación: Se calcula la precisión, la matriz de confusión y el área bajo la curva ROC para evaluar el rendimiento del modelo.\n",
        "\n",
        "Visualización: Se visualiza el árbol de decisión para interpretar cómo se toman las decisiones.\n",
        "\n",
        "\n",
        "Tal como se visualiza el modelo pareciera que puede estar sobre entrenado, es quede predice en un arbol que llega a su maxima profundidad, por lo tanto\n",
        "Para evitar el sobreajuste en un modelo de Árbol de Decisión, puedes usar varios enfoques como limitar la profundidad del árbol, ajustar el número mínimo de muestras necesarias para dividir un nodo, o establecer un criterio de complejidad. Aquí te dejo algunas variantes del código que puedes implementar para controlar el sobreajuste:"
      ],
      "metadata": {
        "id": "Rs0nbr5S6Ooy"
      }
    },
    {
      "cell_type": "markdown",
      "source": [
        "***Limitar la profundidad máxima del árbol***\n",
        "Reducir la profundidad del árbol asegura que no crezca demasiado y evita que modele ruido en los datos."
      ],
      "metadata": {
        "id": "cdXARx_XhsEr"
      }
    },
    {
      "cell_type": "code",
      "source": [
        "tree_clf = DecisionTreeClassifier(max_depth=5, random_state=42)\n",
        "tree_clf.fit(X_train, y_train)\n",
        "y_pred = tree_clf.predict(X_test)\n"
      ],
      "metadata": {
        "id": "H64SVWg7hNwN"
      },
      "execution_count": null,
      "outputs": []
    },
    {
      "cell_type": "markdown",
      "source": [
        "*** Aumentar el número mínimo de muestras*** para dividir un nodo"
      ],
      "metadata": {
        "id": "yrn-C0Y4h5g_"
      }
    },
    {
      "cell_type": "code",
      "source": [
        "tree_clf = DecisionTreeClassifier(min_samples_split=10, random_state=42)\n",
        "tree_clf.fit(X_train, y_train)\n",
        "y_pred = tree_clf.predict(X_test)\n"
      ],
      "metadata": {
        "id": "InmvWuiqhv8S"
      },
      "execution_count": null,
      "outputs": []
    },
    {
      "cell_type": "markdown",
      "source": [
        "***Establecer un umbral mínimo para la ganancia de información***\n",
        "\n",
        "min_impurity_decrease requiere que una división reduzca la impureza por una cantidad mínima."
      ],
      "metadata": {
        "id": "_ARthm3VkzcR"
      }
    },
    {
      "cell_type": "code",
      "source": [
        "tree_clf = DecisionTreeClassifier(min_impurity_decrease=0.01, random_state=42)\n",
        "tree_clf.fit(X_train, y_train)\n",
        "y_pred = tree_clf.predict(X_test)\n"
      ],
      "metadata": {
        "id": "DPqeTwZzhcvq"
      },
      "execution_count": null,
      "outputs": []
    },
    {
      "cell_type": "markdown",
      "source": [
        "***Podar el árbol mediante la complejidad de costo***\n",
        "\n",
        "ccp_alpha (Cost Complexity Pruning) permite podar ramas menos importantes que no reducen mucho el error."
      ],
      "metadata": {
        "id": "14n38B31k9ZM"
      }
    },
    {
      "cell_type": "code",
      "source": [
        "tree_clf = DecisionTreeClassifier(ccp_alpha=0.01, random_state=42)\n",
        "tree_clf.fit(X_train, y_train)\n",
        "y_pred = tree_clf.predict(X_test)"
      ],
      "metadata": {
        "id": "jhiAFk_HlFpy"
      },
      "execution_count": null,
      "outputs": []
    },
    {
      "cell_type": "markdown",
      "source": [
        "*** Validación cruzada para optimizar hiperparámetros***\n",
        "Puedes usar GridSearchCV para buscar los mejores parámetros que eviten el sobreajuste."
      ],
      "metadata": {
        "id": "2_O-XGZwlH9G"
      }
    },
    {
      "cell_type": "code",
      "source": [
        "from sklearn.model_selection import GridSearchCV\n",
        "\n",
        "param_grid = {\n",
        "    'max_depth': [3, 5, 10],\n",
        "    'min_samples_split': [2, 5, 10],\n",
        "    'min_samples_leaf': [1, 3, 5],\n",
        "    'ccp_alpha': [0.0, 0.01, 0.1],\n",
        "}\n",
        "\n",
        "grid_search = GridSearchCV(DecisionTreeClassifier(random_state=42), param_grid, cv=5, scoring='accuracy')\n",
        "grid_search.fit(X_train, y_train)\n",
        "\n",
        "best_tree = grid_search.best_estimator_\n",
        "y_pred = best_tree.predict(X_test)\n",
        "\n",
        "print(\"Mejores parámetros:\", grid_search.best_params_)\n"
      ],
      "metadata": {
        "id": "_f2I5oVwlPom"
      },
      "execution_count": null,
      "outputs": []
    },
    {
      "cell_type": "markdown",
      "source": [
        "***Cambiar el criterio de división***\n",
        "Por defecto, el Árbol de Decisión usa el criterio gini. También puedes probar con entropy para medir la pureza de los nodos."
      ],
      "metadata": {
        "id": "G9UpRjT0lS1s"
      }
    },
    {
      "cell_type": "code",
      "source": [
        "tree_clf = DecisionTreeClassifier(criterion='entropy', random_state=42)\n",
        "tree_clf.fit(X_train, y_train)\n",
        "y_pred = tree_clf.predict(X_test)\n"
      ],
      "metadata": {
        "id": "2QiFwrwFlYpS"
      },
      "execution_count": null,
      "outputs": []
    },
    {
      "cell_type": "markdown",
      "source": [
        "***Evaluación del Modelo***\n",
        "Después de implementar estas variantes, evalúa el modelo con métricas como precisión, matriz de confusión y ROC-AUC:"
      ],
      "metadata": {
        "id": "328c_C8BlldA"
      }
    },
    {
      "cell_type": "code",
      "source": [
        "from sklearn.metrics import accuracy_score, confusion_matrix, roc_auc_score\n",
        "\n",
        "accuracy = accuracy_score(y_test, y_pred)\n",
        "conf_matrix = confusion_matrix(y_test, y_pred)\n",
        "\n",
        "print(\"Precisión:\", accuracy)\n",
        "print(\"Matriz de Confusión:\\n\", conf_matrix)\n",
        "\n",
        "# Calcular el AUC-ROC si hay al menos dos clases\n",
        "if len(np.unique(y_test)) > 1:\n",
        "    roc_auc = roc_auc_score(y_test, tree_clf.predict_proba(X_test)[:, 1])\n",
        "    print(\"Área bajo la curva ROC:\", roc_auc)\n"
      ],
      "metadata": {
        "id": "fobdCxSnlha-"
      },
      "execution_count": null,
      "outputs": []
    }
  ]
}