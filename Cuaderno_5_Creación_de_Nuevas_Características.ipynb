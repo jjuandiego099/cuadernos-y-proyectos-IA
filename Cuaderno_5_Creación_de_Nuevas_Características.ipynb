{
  "nbformat": 4,
  "nbformat_minor": 0,
  "metadata": {
    "colab": {
      "provenance": [],
      "include_colab_link": true
    },
    "kernelspec": {
      "name": "python3",
      "display_name": "Python 3"
    },
    "language_info": {
      "name": "python"
    }
  },
  "cells": [
    {
      "cell_type": "markdown",
      "metadata": {
        "id": "view-in-github",
        "colab_type": "text"
      },
      "source": [
        "<a href=\"https://colab.research.google.com/github/jjuandiego099/cuadernos-y-proyectos-IA/blob/main/Cuaderno_5_Creaci%C3%B3n_de_Nuevas_Caracter%C3%ADsticas.ipynb\" target=\"_parent\"><img src=\"https://colab.research.google.com/assets/colab-badge.svg\" alt=\"Open In Colab\"/></a>"
      ]
    },
    {
      "cell_type": "markdown",
      "source": [
        "# <font color=\"red\">Cuaderno 5: Creación de Nuevas Características\n",
        "La creación de nuevas características (feature engineering) es un paso crucial en el preprocesamiento de datos, ya que puede mejorar la capacidad predictiva de los modelos al transformar y combinar los datos originales. En este Sesion, exploraremos estrategias para crear características basadas en datos existentes y ejemplos prácticos para cada caso.\n",
        "\n",
        "\n",
        "---\n",
        "\n",
        "## <font color=\"red\">5.1 Combinación y Transformación de Características Existentes\n",
        "La combinación de características implica usar variables existentes para generar nuevas que reflejen relaciones entre ellas.\n",
        "### Ejemplo: Crear una relación entre dos columnas\n"
      ],
      "metadata": {
        "id": "W7OTDAf8Ew-j"
      }
    },
    {
      "cell_type": "code",
      "execution_count": 1,
      "metadata": {
        "colab": {
          "base_uri": "https://localhost:8080/"
        },
        "collapsed": true,
        "id": "yg8nPjpUEqFc",
        "outputId": "755fb177-2ddd-4ecb-e9cb-7962e33cdb39"
      },
      "outputs": [
        {
          "output_type": "stream",
          "name": "stdout",
          "text": [
            "Datos con nueva característica:\n",
            "    Precio  Cantidad  Total\n",
            "0     100         2    200\n",
            "1     200         5   1000\n",
            "2     150         3    450\n",
            "3     300         8   2400\n"
          ]
        }
      ],
      "source": [
        "import pandas as pd\n",
        "\n",
        "# Dataset de ejemplo\n",
        "data = pd.DataFrame({\n",
        "    \"Precio\": [100, 200, 150, 300],\n",
        "    \"Cantidad\": [2, 5, 3, 8]\n",
        "})\n",
        "\n",
        "# Crear una nueva característica: Total\n",
        "data[\"Total\"] = data[\"Precio\"] * data[\"Cantidad\"]\n",
        "print(\"Datos con nueva característica:\\n\", data)\n"
      ]
    },
    {
      "cell_type": "markdown",
      "source": [
        "## <font color=\"red\">5.2 Generación de Características Temporales\n",
        "Los datos con marcas de tiempo pueden enriquecerse extrayendo información útil como año, mes, día, hora o día de la semana.\n",
        "### Ejemplo: Procesamiento de características temporales\n"
      ],
      "metadata": {
        "id": "JUoq62HPFLzC"
      }
    },
    {
      "cell_type": "code",
      "source": [
        "# Agregar fechas al dataset\n",
        "data[\"Fecha\"] = pd.to_datetime([\"2023-01-01\", \"2023-01-15\", \"2023-02-10\", \"2023-03-01\"])\n",
        "\n",
        "# Extraer características temporales\n",
        "data[\"Año\"] = data[\"Fecha\"].dt.year\n",
        "data[\"Mes\"] = data[\"Fecha\"].dt.month\n",
        "data[\"Día\"] = data[\"Fecha\"].dt.day\n",
        "data[\"Día_Semana\"] = data[\"Fecha\"].dt.day_name()\n",
        "print(\"Datos con características temporales:\\n\", data)\n"
      ],
      "metadata": {
        "collapsed": true,
        "colab": {
          "base_uri": "https://localhost:8080/"
        },
        "id": "XIZnBPFdFS7q",
        "outputId": "6316c770-82a1-4f65-873a-a31f48983365"
      },
      "execution_count": 3,
      "outputs": [
        {
          "output_type": "stream",
          "name": "stdout",
          "text": [
            "Datos con características temporales:\n",
            "    Precio  Cantidad  Total      Fecha   Año  Mes  Día Día_Semana\n",
            "0     100         2    200 2023-01-01  2023    1    1     Sunday\n",
            "1     200         5   1000 2023-01-15  2023    1   15     Sunday\n",
            "2     150         3    450 2023-02-10  2023    2   10     Friday\n",
            "3     300         8   2400 2023-03-01  2023    3    1  Wednesday\n"
          ]
        }
      ]
    },
    {
      "cell_type": "markdown",
      "source": [
        "## <font color=\"red\">5.3 Extracción de Características a partir de Texto\n",
        "El procesamiento de texto permite transformar datos no estructurados en representaciones numéricas útiles.\n",
        "### <font color=\"blue\">5.3.1 Tokenización y Conteo de Palabras\n",
        "La tokenización divide el texto en palabras o frases, y el conteo de palabras mide la frecuencia de términos en un texto.\n"
      ],
      "metadata": {
        "id": "jYALC3kiFW_Y"
      }
    },
    {
      "cell_type": "code",
      "source": [
        "from sklearn.feature_extraction.text import CountVectorizer\n",
        "\n",
        "# Datos de texto\n",
        "data_texto = pd.DataFrame({\n",
        "    \"Texto\": [\"Hola mundo\", \"Machine learning es increíble\", \"Python es popular\"]\n",
        "})\n",
        "\n",
        "# Vectorizador de palabras\n",
        "vectorizer = CountVectorizer()\n",
        "matriz_frecuencia = vectorizer.fit_transform(data_texto[\"Texto\"])\n",
        "\n",
        "# Mostrar el vocabulario y la matriz\n",
        "print(\"\\nVocabulario:\", vectorizer.get_feature_names_out())\n",
        "print(\"Matriz de frecuencia:\\n\", matriz_frecuencia.toarray())\n"
      ],
      "metadata": {
        "collapsed": true,
        "colab": {
          "base_uri": "https://localhost:8080/"
        },
        "id": "fZgwwch6FpFR",
        "outputId": "049aef0f-e005-4371-b1c8-43ca90a9373a"
      },
      "execution_count": 4,
      "outputs": [
        {
          "output_type": "stream",
          "name": "stdout",
          "text": [
            "\n",
            "Vocabulario: ['es' 'hola' 'increíble' 'learning' 'machine' 'mundo' 'popular' 'python']\n",
            "Matriz de frecuencia:\n",
            " [[0 1 0 0 0 1 0 0]\n",
            " [1 0 1 1 1 0 0 0]\n",
            " [1 0 0 0 0 0 1 1]]\n"
          ]
        }
      ]
    },
    {
      "cell_type": "markdown",
      "source": [
        "## <font color=\"red\">5.4 Extracción de Características Geoespaciales\n",
        "Los datos geoespaciales pueden enriquecerse mediante cálculos como distancias, regiones o agrupaciones espaciales.\n",
        "### Ejemplo: Distancia entre coordenadas\n",
        "Utilizamos la fórmula de Haversine para calcular la distancia entre dos puntos geográficos.\n"
      ],
      "metadata": {
        "id": "VBHqug5IF0wJ"
      }
    },
    {
      "cell_type": "code",
      "source": [
        "from geopy.distance import geodesic\n",
        "\n",
        "\n",
        "# Coordenadas de dos ubicaciones\n",
        "data_geo = pd.DataFrame({\n",
        "    \"Latitud\": [19.4326, 40.7128],  # Ciudad de México, Nueva York\n",
        "    \"Longitud\": [-99.1332, -74.0060]\n",
        "})\n",
        "\n",
        "\n",
        "# Calcular distancias desde un punto de referencia\n",
        "referencia = (19.4326, -99.1332)  # Ciudad de México\n",
        "data_geo[\"Distancia_km\"] = data_geo.apply(\n",
        "    lambda row: geodesic(referencia, (row[\"Latitud\"], row[\"Longitud\"])).kilometers, axis=1\n",
        ")\n",
        "print(\"\\nDatos con distancia geoespacial:\\n\", data_geo)"
      ],
      "metadata": {
        "colab": {
          "base_uri": "https://localhost:8080/"
        },
        "collapsed": true,
        "id": "KVB7g4_wF9Dy",
        "outputId": "fe12aad9-68dd-4bee-d2bb-a20c81512f4e"
      },
      "execution_count": 5,
      "outputs": [
        {
          "output_type": "stream",
          "name": "stdout",
          "text": [
            "\n",
            "Datos con distancia geoespacial:\n",
            "    Latitud  Longitud  Distancia_km\n",
            "0  19.4326  -99.1332        0.0000\n",
            "1  40.7128  -74.0060     3357.6952\n"
          ]
        }
      ]
    },
    {
      "cell_type": "code",
      "source": [
        "# prompt: crear un dataframe  con edad latitud longitud nombre en torno a bucaramanga y con la nota en ia de 1 a 5\n",
        "\n",
        "import pandas as pd\n",
        "import numpy as np\n",
        "from geopy.distance import geodesic\n",
        "\n",
        "# Número de registros\n",
        "n = 100\n",
        "\n",
        "# Crear datos aleatorios\n",
        "nombres = ['Nombre' + str(i) for i in range(n)]\n",
        "edades = np.random.randint(18, 65, n)\n",
        "latitudes = np.random.uniform(7.05, 7.20, n) # Alrededor de Bucaramanga\n",
        "longitudes = np.random.uniform(-73.15, -73.00, n) # Alrededor de Bucaramanga\n",
        "notas_ia = np.random.randint(1, 6, n)\n",
        "\n",
        "# Crear DataFrame\n",
        "df = pd.DataFrame({\n",
        "    'nombre': nombres,\n",
        "    'edad': edades,\n",
        "    'latitud': latitudes,\n",
        "    'longitud': longitudes,\n",
        "    'nota_ia': notas_ia\n",
        "})\n",
        "\n",
        "# Punto de referencia (Bucaramanga)\n",
        "bucaramanga = (7.1253, -73.1184)\n",
        "\n",
        "# Calcular la distancia a Bucaramanga\n",
        "df['distancia_bucaramanga'] = df.apply(lambda row: geodesic(bucaramanga, (row['latitud'], row['longitud'])).km, axis=1)\n",
        "\n",
        "print(df.head())\n"
      ],
      "metadata": {
        "id": "EIB2B6mvoDDU",
        "outputId": "a890b9ee-2f29-4f07-fca3-1dd51f5cf22f",
        "colab": {
          "base_uri": "https://localhost:8080/"
        }
      },
      "execution_count": 10,
      "outputs": [
        {
          "output_type": "stream",
          "name": "stdout",
          "text": [
            "    nombre  edad   latitud   longitud  nota_ia  distancia_bucaramanga\n",
            "0  Nombre0    22  7.181219 -73.019832        5              12.521445\n",
            "1  Nombre1    62  7.145552 -73.115745        1               2.258798\n",
            "2  Nombre2    49  7.110875 -73.062360        1               6.392818\n",
            "3  Nombre3    55  7.127339 -73.094075        5               2.696465\n",
            "4  Nombre4    50  7.126139 -73.056910        5               6.793128\n"
          ]
        }
      ]
    },
    {
      "cell_type": "code",
      "source": [
        "# prompt: crea un grafico de mapa con scatter_mapbox\n",
        "\n",
        "import plotly.express as px\n",
        "\n",
        "# Suponiendo que 'df' ya está definido como en el código anterior\n",
        "fig = px.scatter_mapbox(df, lat=\"latitud\", lon=\"longitud\", hover_name=\"nombre\", hover_data=[\"edad\", \"nota_ia\", \"distancia_bucaramanga\"],\n",
        "                        color=\"nota_ia\", size=\"distancia_bucaramanga\", zoom=10, height=600,\n",
        "                        mapbox_style=\"open-street-map\")\n",
        "fig.update_layout(mapbox_style=\"open-street-map\")\n",
        "fig.update_layout(margin={\"r\":0,\"t\":0,\"l\":0,\"b\":0})\n",
        "fig.show()\n"
      ],
      "metadata": {
        "id": "vLzHx4GioeEq",
        "outputId": "82a2c7b4-3a0b-41ba-b4c7-4016730f64f1",
        "colab": {
          "base_uri": "https://localhost:8080/",
          "height": 617
        }
      },
      "execution_count": 12,
      "outputs": [
        {
          "output_type": "display_data",
          "data": {
            "text/html": [
              "<html>\n",
              "<head><meta charset=\"utf-8\" /></head>\n",
              "<body>\n",
              "    <div>            <script src=\"https://cdnjs.cloudflare.com/ajax/libs/mathjax/2.7.5/MathJax.js?config=TeX-AMS-MML_SVG\"></script><script type=\"text/javascript\">if (window.MathJax && window.MathJax.Hub && window.MathJax.Hub.Config) {window.MathJax.Hub.Config({SVG: {font: \"STIX-Web\"}});}</script>                <script type=\"text/javascript\">window.PlotlyConfig = {MathJaxConfig: 'local'};</script>\n",
              "        <script charset=\"utf-8\" src=\"https://cdn.plot.ly/plotly-2.35.2.min.js\"></script>                <div id=\"79f8e17a-1659-4016-9774-32bd778432a5\" class=\"plotly-graph-div\" style=\"height:600px; width:100%;\"></div>            <script type=\"text/javascript\">                                    window.PLOTLYENV=window.PLOTLYENV || {};                                    if (document.getElementById(\"79f8e17a-1659-4016-9774-32bd778432a5\")) {                    Plotly.newPlot(                        \"79f8e17a-1659-4016-9774-32bd778432a5\",                        [{\"customdata\":[[22.0,5.0,12.521445304281702],[62.0,1.0,2.258798188404435],[49.0,1.0,6.3928177809492714],[55.0,5.0,2.6964653937216205],[50.0,5.0,6.793127846830376],[64.0,3.0,12.863426330110817],[20.0,2.0,2.5447549728358436],[32.0,1.0,9.51472806645192],[47.0,1.0,6.541411716826464],[38.0,2.0,6.800806198721872],[31.0,3.0,7.874773405653035],[58.0,1.0,7.264450053923234],[28.0,2.0,5.3218494958420415],[19.0,1.0,12.021611942390665],[50.0,1.0,8.028707815128964],[53.0,2.0,6.589287516080188],[49.0,4.0,9.971575120849133],[23.0,2.0,12.136793002703273],[45.0,4.0,7.056448491452936],[60.0,5.0,11.469161043309924],[58.0,1.0,8.21976696531905],[19.0,1.0,6.502366404689296],[55.0,2.0,5.986863378683275],[43.0,3.0,3.9486453806617225],[32.0,2.0,3.200770855850902],[40.0,4.0,7.973950760779425],[58.0,5.0,3.62829527808836],[50.0,3.0,4.988374858536606],[21.0,4.0,10.788188400063571],[46.0,4.0,5.3065433437430904],[51.0,1.0,5.795561721990246],[48.0,4.0,11.064384602934512],[60.0,5.0,1.5170441308915539],[43.0,1.0,7.66588126322091],[32.0,2.0,3.7912508616388148],[23.0,2.0,5.353009331294262],[61.0,4.0,3.931471897953573],[25.0,1.0,9.263169482520661],[43.0,2.0,7.426656298346636],[58.0,1.0,6.988008775576421],[30.0,1.0,12.449012113877952],[38.0,2.0,3.7216997676013372],[43.0,1.0,10.912782640630368],[29.0,2.0,7.861016579555517],[50.0,4.0,3.1243546101947755],[21.0,1.0,7.951279710709238],[27.0,5.0,3.5808140678031584],[47.0,1.0,9.352477039877606],[24.0,1.0,7.445620288806574],[31.0,5.0,12.618232889162822],[60.0,1.0,9.305277280141981],[48.0,2.0,6.463935668821922],[26.0,1.0,13.42794946606677],[53.0,2.0,6.548474783330051],[37.0,5.0,12.086361906586628],[42.0,5.0,7.883524843115958],[30.0,2.0,4.172100290004508],[54.0,5.0,5.790800140455373],[29.0,5.0,3.2509430204497263],[30.0,5.0,5.434255828408547],[63.0,4.0,1.7040806116001268],[57.0,1.0,7.469512441134892],[58.0,4.0,5.206553080127973],[39.0,4.0,14.408668547319143],[27.0,2.0,4.828003979990861],[55.0,1.0,12.014418135224092],[37.0,1.0,8.621331509627462],[49.0,1.0,13.166221484523174],[35.0,3.0,9.030256117071076],[59.0,1.0,4.7450487897342555],[36.0,3.0,9.848296129113661],[60.0,5.0,9.496402676185511],[31.0,2.0,10.995939320027011],[29.0,5.0,7.933969188698028],[24.0,5.0,1.0292323325798418],[61.0,1.0,4.129231774715447],[30.0,3.0,5.129260244183835],[41.0,2.0,3.8695582571131064],[22.0,2.0,1.613221267093706],[54.0,3.0,10.969115946441006],[37.0,3.0,6.184076300699327],[28.0,5.0,10.108890044705744],[61.0,5.0,6.920019036515142],[48.0,5.0,3.672443569591605],[46.0,1.0,6.225217898088219],[51.0,2.0,7.0388165458093965],[62.0,2.0,6.907299014385447],[43.0,5.0,13.418049573917504],[46.0,5.0,11.208493188525091],[42.0,5.0,10.905344578883776],[30.0,2.0,6.67846361174915],[19.0,4.0,11.658868691192348],[43.0,2.0,4.553382765610971],[61.0,2.0,8.865160193229261],[54.0,2.0,13.07410395162048],[57.0,4.0,6.541205019056972],[24.0,2.0,6.6823857625095116],[22.0,4.0,3.220238814671531],[63.0,2.0,8.722461823102227],[58.0,2.0,5.8663181523638634]],\"hovertemplate\":\"\\u003cb\\u003e%{hovertext}\\u003c\\u002fb\\u003e\\u003cbr\\u003e\\u003cbr\\u003edistancia_bucaramanga=%{customdata[2]}\\u003cbr\\u003elatitud=%{lat}\\u003cbr\\u003elongitud=%{lon}\\u003cbr\\u003eedad=%{customdata[0]}\\u003cbr\\u003enota_ia=%{marker.color}\\u003cextra\\u003e\\u003c\\u002fextra\\u003e\",\"hovertext\":[\"Nombre0\",\"Nombre1\",\"Nombre2\",\"Nombre3\",\"Nombre4\",\"Nombre5\",\"Nombre6\",\"Nombre7\",\"Nombre8\",\"Nombre9\",\"Nombre10\",\"Nombre11\",\"Nombre12\",\"Nombre13\",\"Nombre14\",\"Nombre15\",\"Nombre16\",\"Nombre17\",\"Nombre18\",\"Nombre19\",\"Nombre20\",\"Nombre21\",\"Nombre22\",\"Nombre23\",\"Nombre24\",\"Nombre25\",\"Nombre26\",\"Nombre27\",\"Nombre28\",\"Nombre29\",\"Nombre30\",\"Nombre31\",\"Nombre32\",\"Nombre33\",\"Nombre34\",\"Nombre35\",\"Nombre36\",\"Nombre37\",\"Nombre38\",\"Nombre39\",\"Nombre40\",\"Nombre41\",\"Nombre42\",\"Nombre43\",\"Nombre44\",\"Nombre45\",\"Nombre46\",\"Nombre47\",\"Nombre48\",\"Nombre49\",\"Nombre50\",\"Nombre51\",\"Nombre52\",\"Nombre53\",\"Nombre54\",\"Nombre55\",\"Nombre56\",\"Nombre57\",\"Nombre58\",\"Nombre59\",\"Nombre60\",\"Nombre61\",\"Nombre62\",\"Nombre63\",\"Nombre64\",\"Nombre65\",\"Nombre66\",\"Nombre67\",\"Nombre68\",\"Nombre69\",\"Nombre70\",\"Nombre71\",\"Nombre72\",\"Nombre73\",\"Nombre74\",\"Nombre75\",\"Nombre76\",\"Nombre77\",\"Nombre78\",\"Nombre79\",\"Nombre80\",\"Nombre81\",\"Nombre82\",\"Nombre83\",\"Nombre84\",\"Nombre85\",\"Nombre86\",\"Nombre87\",\"Nombre88\",\"Nombre89\",\"Nombre90\",\"Nombre91\",\"Nombre92\",\"Nombre93\",\"Nombre94\",\"Nombre95\",\"Nombre96\",\"Nombre97\",\"Nombre98\",\"Nombre99\"],\"lat\":[7.181219117548125,7.145551882878115,7.110874766660289,7.127338602965414,7.126139356384485,7.138841717699875,7.102689093912957,7.072094042947557,7.178608230247821,7.104923458812287,7.127856241485074,7.172471042060919,7.130685360464878,7.159112646259003,7.140950546336246,7.067367261956088,7.1436370498390565,7.099464780312676,7.130047410838801,7.098717161989199,7.142513352962107,7.170435174022335,7.142105719068413,7.089595232528769,7.108926708511118,7.152070272762287,7.092680335613131,7.09251150154859,7.0638487986115,7.13568025617721,7.167677682797142,7.086081461805615,7.133894847731602,7.081598340286678,7.1595513877283015,7.166334748237496,7.094033350341375,7.167413097169292,7.058605036519671,7.164351573910357,7.172544523886623,7.137085130633653,7.151819222031424,7.060861790429588,7.097155005462357,7.090506776526007,7.157583176560682,7.11003987776198,7.060170347240854,7.058979898238432,7.057136635933791,7.183462292280117,7.091754703168877,7.074441128106776,7.164683580618098,7.054142311823362,7.159425756278655,7.116224218589678,7.150237996532447,7.154960143289332,7.119646530652695,7.191293896511243,7.152795571852912,7.183333387475099,7.1427947096382285,7.148260360417487,7.11367126485048,7.193084890825824,7.052260013963311,7.083531968804043,7.078106623401674,7.197592811531369,7.057454465726545,7.054574943709575,7.134288676559645,7.160478413372832,7.079564804503723,7.156462514562276,7.135935015126902,7.079571290108772,7.091013575911032,7.117746589128482,7.063126491972601,7.156062710009279,7.1811348399217945,7.1886442989259605,7.185726239065279,7.067248893654639,7.1821766425883355,7.1011251629660075,7.078521382006625,7.174461830798758,7.1662755597400345,7.091989946296981,7.096220929970379,7.066530282800684,7.18422881090221,7.143997320766055,7.145052693045612,7.074038514368325],\"legendgroup\":\"\",\"lon\":[-73.01983179290933,-73.11574545136646,-73.06236014263916,-73.09407539146802,-73.05691020920025,-73.00274270845705,-73.11412588479536,-73.05071654039564,-73.09273970701064,-73.06031429833898,-73.0471585710852,-73.07263219646015,-73.07052577505803,-73.01496805917893,-73.04742708089448,-73.13233822948528,-73.03001599108416,-73.01162125888625,-73.05469751706408,-73.01804589247585,-73.04601140462141,-73.08067470596794,-73.06688009031325,-73.11832130472774,-73.14229251092983,-73.05137275141783,-73.11488441422973,-73.14941000100823,-73.04255747595172,-73.0714989828606,-73.14926564335997,-73.02625880755194,-73.12910340637453,-73.06453566034526,-73.11695953420359,-73.09269771923839,-73.10146480668175,-73.04591060894674,-73.11055204121952,-73.06866582336754,-73.01610479173816,-73.0868420038733,-73.02324261745545,-73.14843759535863,-73.11594806206227,-73.05541221841698,-73.1159109456632,-73.03512693837347,-73.10132700046826,-73.02545708043824,-73.0690169903043,-73.11261334671119,-73.00157759717774,-73.08804236097339,-73.01633388249678,-73.12266779731715,-73.10229895295215,-73.06677214436239,-73.1339815786778,-73.07917714677278,-73.10404954593315,-73.13279290374871,-73.08013955766955,-73.001610918597,-73.0783561270875,-73.01209244082786,-73.04122869467139,-73.02040998239957,-73.08185654874134,-73.12822765764243,-73.0428001915468,-73.07200491131137,-73.04563802392245,-73.10635403625186,-73.12081460336393,-73.13092810446663,-73.12611735864874,-73.10246984746288,-73.12839565873004,-73.03028841936126,-73.07417784711149,-73.02720197379372,-73.12546656795027,-73.13091990711995,-73.12555405874565,-73.12460739490886,-73.13421915355218,-73.01174400348731,-73.03441257478251,-73.02269343478552,-73.08016738311721,-73.02503045233132,-73.12243216374539,-73.04540662321989,-73.00368524530525,-73.11171760532886,-73.1050250014803,-73.0960517305909,-73.04195377136968,-73.13205433511315],\"marker\":{\"color\":[5,1,1,5,5,3,2,1,1,2,3,1,2,1,1,2,4,2,4,5,1,1,2,3,2,4,5,3,4,4,1,4,5,1,2,2,4,1,2,1,1,2,1,2,4,1,5,1,1,5,1,2,1,2,5,5,2,5,5,5,4,1,4,4,2,1,1,1,3,1,3,5,2,5,5,1,3,2,2,3,3,5,5,5,1,2,2,5,5,5,2,4,2,2,2,4,2,4,2,2],\"coloraxis\":\"coloraxis\",\"size\":[12.521445304281702,2.258798188404435,6.3928177809492714,2.6964653937216205,6.793127846830376,12.863426330110817,2.5447549728358436,9.51472806645192,6.541411716826464,6.800806198721872,7.874773405653035,7.264450053923234,5.3218494958420415,12.021611942390665,8.028707815128964,6.589287516080188,9.971575120849133,12.136793002703273,7.056448491452936,11.469161043309924,8.21976696531905,6.502366404689296,5.986863378683275,3.9486453806617225,3.200770855850902,7.973950760779425,3.62829527808836,4.988374858536606,10.788188400063571,5.3065433437430904,5.795561721990246,11.064384602934512,1.5170441308915539,7.66588126322091,3.7912508616388148,5.353009331294262,3.931471897953573,9.263169482520661,7.426656298346636,6.988008775576421,12.449012113877952,3.7216997676013372,10.912782640630368,7.861016579555517,3.1243546101947755,7.951279710709238,3.5808140678031584,9.352477039877606,7.445620288806574,12.618232889162822,9.305277280141981,6.463935668821922,13.42794946606677,6.548474783330051,12.086361906586628,7.883524843115958,4.172100290004508,5.790800140455373,3.2509430204497263,5.434255828408547,1.7040806116001268,7.469512441134892,5.206553080127973,14.408668547319143,4.828003979990861,12.014418135224092,8.621331509627462,13.166221484523174,9.030256117071076,4.7450487897342555,9.848296129113661,9.496402676185511,10.995939320027011,7.933969188698028,1.0292323325798418,4.129231774715447,5.129260244183835,3.8695582571131064,1.613221267093706,10.969115946441006,6.184076300699327,10.108890044705744,6.920019036515142,3.672443569591605,6.225217898088219,7.0388165458093965,6.907299014385447,13.418049573917504,11.208493188525091,10.905344578883776,6.67846361174915,11.658868691192348,4.553382765610971,8.865160193229261,13.07410395162048,6.541205019056972,6.6823857625095116,3.220238814671531,8.722461823102227,5.8663181523638634],\"sizemode\":\"area\",\"sizeref\":0.036021671368297856},\"mode\":\"markers\",\"name\":\"\",\"showlegend\":false,\"subplot\":\"mapbox\",\"type\":\"scattermapbox\"}],                        {\"template\":{\"data\":{\"histogram2dcontour\":[{\"type\":\"histogram2dcontour\",\"colorbar\":{\"outlinewidth\":0,\"ticks\":\"\"},\"colorscale\":[[0.0,\"#0d0887\"],[0.1111111111111111,\"#46039f\"],[0.2222222222222222,\"#7201a8\"],[0.3333333333333333,\"#9c179e\"],[0.4444444444444444,\"#bd3786\"],[0.5555555555555556,\"#d8576b\"],[0.6666666666666666,\"#ed7953\"],[0.7777777777777778,\"#fb9f3a\"],[0.8888888888888888,\"#fdca26\"],[1.0,\"#f0f921\"]]}],\"choropleth\":[{\"type\":\"choropleth\",\"colorbar\":{\"outlinewidth\":0,\"ticks\":\"\"}}],\"histogram2d\":[{\"type\":\"histogram2d\",\"colorbar\":{\"outlinewidth\":0,\"ticks\":\"\"},\"colorscale\":[[0.0,\"#0d0887\"],[0.1111111111111111,\"#46039f\"],[0.2222222222222222,\"#7201a8\"],[0.3333333333333333,\"#9c179e\"],[0.4444444444444444,\"#bd3786\"],[0.5555555555555556,\"#d8576b\"],[0.6666666666666666,\"#ed7953\"],[0.7777777777777778,\"#fb9f3a\"],[0.8888888888888888,\"#fdca26\"],[1.0,\"#f0f921\"]]}],\"heatmap\":[{\"type\":\"heatmap\",\"colorbar\":{\"outlinewidth\":0,\"ticks\":\"\"},\"colorscale\":[[0.0,\"#0d0887\"],[0.1111111111111111,\"#46039f\"],[0.2222222222222222,\"#7201a8\"],[0.3333333333333333,\"#9c179e\"],[0.4444444444444444,\"#bd3786\"],[0.5555555555555556,\"#d8576b\"],[0.6666666666666666,\"#ed7953\"],[0.7777777777777778,\"#fb9f3a\"],[0.8888888888888888,\"#fdca26\"],[1.0,\"#f0f921\"]]}],\"heatmapgl\":[{\"type\":\"heatmapgl\",\"colorbar\":{\"outlinewidth\":0,\"ticks\":\"\"},\"colorscale\":[[0.0,\"#0d0887\"],[0.1111111111111111,\"#46039f\"],[0.2222222222222222,\"#7201a8\"],[0.3333333333333333,\"#9c179e\"],[0.4444444444444444,\"#bd3786\"],[0.5555555555555556,\"#d8576b\"],[0.6666666666666666,\"#ed7953\"],[0.7777777777777778,\"#fb9f3a\"],[0.8888888888888888,\"#fdca26\"],[1.0,\"#f0f921\"]]}],\"contourcarpet\":[{\"type\":\"contourcarpet\",\"colorbar\":{\"outlinewidth\":0,\"ticks\":\"\"}}],\"contour\":[{\"type\":\"contour\",\"colorbar\":{\"outlinewidth\":0,\"ticks\":\"\"},\"colorscale\":[[0.0,\"#0d0887\"],[0.1111111111111111,\"#46039f\"],[0.2222222222222222,\"#7201a8\"],[0.3333333333333333,\"#9c179e\"],[0.4444444444444444,\"#bd3786\"],[0.5555555555555556,\"#d8576b\"],[0.6666666666666666,\"#ed7953\"],[0.7777777777777778,\"#fb9f3a\"],[0.8888888888888888,\"#fdca26\"],[1.0,\"#f0f921\"]]}],\"surface\":[{\"type\":\"surface\",\"colorbar\":{\"outlinewidth\":0,\"ticks\":\"\"},\"colorscale\":[[0.0,\"#0d0887\"],[0.1111111111111111,\"#46039f\"],[0.2222222222222222,\"#7201a8\"],[0.3333333333333333,\"#9c179e\"],[0.4444444444444444,\"#bd3786\"],[0.5555555555555556,\"#d8576b\"],[0.6666666666666666,\"#ed7953\"],[0.7777777777777778,\"#fb9f3a\"],[0.8888888888888888,\"#fdca26\"],[1.0,\"#f0f921\"]]}],\"mesh3d\":[{\"type\":\"mesh3d\",\"colorbar\":{\"outlinewidth\":0,\"ticks\":\"\"}}],\"scatter\":[{\"fillpattern\":{\"fillmode\":\"overlay\",\"size\":10,\"solidity\":0.2},\"type\":\"scatter\"}],\"parcoords\":[{\"type\":\"parcoords\",\"line\":{\"colorbar\":{\"outlinewidth\":0,\"ticks\":\"\"}}}],\"scatterpolargl\":[{\"type\":\"scatterpolargl\",\"marker\":{\"colorbar\":{\"outlinewidth\":0,\"ticks\":\"\"}}}],\"bar\":[{\"error_x\":{\"color\":\"#2a3f5f\"},\"error_y\":{\"color\":\"#2a3f5f\"},\"marker\":{\"line\":{\"color\":\"#E5ECF6\",\"width\":0.5},\"pattern\":{\"fillmode\":\"overlay\",\"size\":10,\"solidity\":0.2}},\"type\":\"bar\"}],\"scattergeo\":[{\"type\":\"scattergeo\",\"marker\":{\"colorbar\":{\"outlinewidth\":0,\"ticks\":\"\"}}}],\"scatterpolar\":[{\"type\":\"scatterpolar\",\"marker\":{\"colorbar\":{\"outlinewidth\":0,\"ticks\":\"\"}}}],\"histogram\":[{\"marker\":{\"pattern\":{\"fillmode\":\"overlay\",\"size\":10,\"solidity\":0.2}},\"type\":\"histogram\"}],\"scattergl\":[{\"type\":\"scattergl\",\"marker\":{\"colorbar\":{\"outlinewidth\":0,\"ticks\":\"\"}}}],\"scatter3d\":[{\"type\":\"scatter3d\",\"line\":{\"colorbar\":{\"outlinewidth\":0,\"ticks\":\"\"}},\"marker\":{\"colorbar\":{\"outlinewidth\":0,\"ticks\":\"\"}}}],\"scattermapbox\":[{\"type\":\"scattermapbox\",\"marker\":{\"colorbar\":{\"outlinewidth\":0,\"ticks\":\"\"}}}],\"scatterternary\":[{\"type\":\"scatterternary\",\"marker\":{\"colorbar\":{\"outlinewidth\":0,\"ticks\":\"\"}}}],\"scattercarpet\":[{\"type\":\"scattercarpet\",\"marker\":{\"colorbar\":{\"outlinewidth\":0,\"ticks\":\"\"}}}],\"carpet\":[{\"aaxis\":{\"endlinecolor\":\"#2a3f5f\",\"gridcolor\":\"white\",\"linecolor\":\"white\",\"minorgridcolor\":\"white\",\"startlinecolor\":\"#2a3f5f\"},\"baxis\":{\"endlinecolor\":\"#2a3f5f\",\"gridcolor\":\"white\",\"linecolor\":\"white\",\"minorgridcolor\":\"white\",\"startlinecolor\":\"#2a3f5f\"},\"type\":\"carpet\"}],\"table\":[{\"cells\":{\"fill\":{\"color\":\"#EBF0F8\"},\"line\":{\"color\":\"white\"}},\"header\":{\"fill\":{\"color\":\"#C8D4E3\"},\"line\":{\"color\":\"white\"}},\"type\":\"table\"}],\"barpolar\":[{\"marker\":{\"line\":{\"color\":\"#E5ECF6\",\"width\":0.5},\"pattern\":{\"fillmode\":\"overlay\",\"size\":10,\"solidity\":0.2}},\"type\":\"barpolar\"}],\"pie\":[{\"automargin\":true,\"type\":\"pie\"}]},\"layout\":{\"autotypenumbers\":\"strict\",\"colorway\":[\"#636efa\",\"#EF553B\",\"#00cc96\",\"#ab63fa\",\"#FFA15A\",\"#19d3f3\",\"#FF6692\",\"#B6E880\",\"#FF97FF\",\"#FECB52\"],\"font\":{\"color\":\"#2a3f5f\"},\"hovermode\":\"closest\",\"hoverlabel\":{\"align\":\"left\"},\"paper_bgcolor\":\"white\",\"plot_bgcolor\":\"#E5ECF6\",\"polar\":{\"bgcolor\":\"#E5ECF6\",\"angularaxis\":{\"gridcolor\":\"white\",\"linecolor\":\"white\",\"ticks\":\"\"},\"radialaxis\":{\"gridcolor\":\"white\",\"linecolor\":\"white\",\"ticks\":\"\"}},\"ternary\":{\"bgcolor\":\"#E5ECF6\",\"aaxis\":{\"gridcolor\":\"white\",\"linecolor\":\"white\",\"ticks\":\"\"},\"baxis\":{\"gridcolor\":\"white\",\"linecolor\":\"white\",\"ticks\":\"\"},\"caxis\":{\"gridcolor\":\"white\",\"linecolor\":\"white\",\"ticks\":\"\"}},\"coloraxis\":{\"colorbar\":{\"outlinewidth\":0,\"ticks\":\"\"}},\"colorscale\":{\"sequential\":[[0.0,\"#0d0887\"],[0.1111111111111111,\"#46039f\"],[0.2222222222222222,\"#7201a8\"],[0.3333333333333333,\"#9c179e\"],[0.4444444444444444,\"#bd3786\"],[0.5555555555555556,\"#d8576b\"],[0.6666666666666666,\"#ed7953\"],[0.7777777777777778,\"#fb9f3a\"],[0.8888888888888888,\"#fdca26\"],[1.0,\"#f0f921\"]],\"sequentialminus\":[[0.0,\"#0d0887\"],[0.1111111111111111,\"#46039f\"],[0.2222222222222222,\"#7201a8\"],[0.3333333333333333,\"#9c179e\"],[0.4444444444444444,\"#bd3786\"],[0.5555555555555556,\"#d8576b\"],[0.6666666666666666,\"#ed7953\"],[0.7777777777777778,\"#fb9f3a\"],[0.8888888888888888,\"#fdca26\"],[1.0,\"#f0f921\"]],\"diverging\":[[0,\"#8e0152\"],[0.1,\"#c51b7d\"],[0.2,\"#de77ae\"],[0.3,\"#f1b6da\"],[0.4,\"#fde0ef\"],[0.5,\"#f7f7f7\"],[0.6,\"#e6f5d0\"],[0.7,\"#b8e186\"],[0.8,\"#7fbc41\"],[0.9,\"#4d9221\"],[1,\"#276419\"]]},\"xaxis\":{\"gridcolor\":\"white\",\"linecolor\":\"white\",\"ticks\":\"\",\"title\":{\"standoff\":15},\"zerolinecolor\":\"white\",\"automargin\":true,\"zerolinewidth\":2},\"yaxis\":{\"gridcolor\":\"white\",\"linecolor\":\"white\",\"ticks\":\"\",\"title\":{\"standoff\":15},\"zerolinecolor\":\"white\",\"automargin\":true,\"zerolinewidth\":2},\"scene\":{\"xaxis\":{\"backgroundcolor\":\"#E5ECF6\",\"gridcolor\":\"white\",\"linecolor\":\"white\",\"showbackground\":true,\"ticks\":\"\",\"zerolinecolor\":\"white\",\"gridwidth\":2},\"yaxis\":{\"backgroundcolor\":\"#E5ECF6\",\"gridcolor\":\"white\",\"linecolor\":\"white\",\"showbackground\":true,\"ticks\":\"\",\"zerolinecolor\":\"white\",\"gridwidth\":2},\"zaxis\":{\"backgroundcolor\":\"#E5ECF6\",\"gridcolor\":\"white\",\"linecolor\":\"white\",\"showbackground\":true,\"ticks\":\"\",\"zerolinecolor\":\"white\",\"gridwidth\":2}},\"shapedefaults\":{\"line\":{\"color\":\"#2a3f5f\"}},\"annotationdefaults\":{\"arrowcolor\":\"#2a3f5f\",\"arrowhead\":0,\"arrowwidth\":1},\"geo\":{\"bgcolor\":\"white\",\"landcolor\":\"#E5ECF6\",\"subunitcolor\":\"white\",\"showland\":true,\"showlakes\":true,\"lakecolor\":\"white\"},\"title\":{\"x\":0.05},\"mapbox\":{\"style\":\"light\"}}},\"mapbox\":{\"domain\":{\"x\":[0.0,1.0],\"y\":[0.0,1.0]},\"center\":{\"lat\":7.124017380337583,\"lon\":-73.0763569820339},\"zoom\":10,\"style\":\"open-street-map\"},\"coloraxis\":{\"colorbar\":{\"title\":{\"text\":\"nota_ia\"}},\"colorscale\":[[0.0,\"#0d0887\"],[0.1111111111111111,\"#46039f\"],[0.2222222222222222,\"#7201a8\"],[0.3333333333333333,\"#9c179e\"],[0.4444444444444444,\"#bd3786\"],[0.5555555555555556,\"#d8576b\"],[0.6666666666666666,\"#ed7953\"],[0.7777777777777778,\"#fb9f3a\"],[0.8888888888888888,\"#fdca26\"],[1.0,\"#f0f921\"]]},\"legend\":{\"tracegroupgap\":0,\"itemsizing\":\"constant\"},\"margin\":{\"t\":0,\"r\":0,\"l\":0,\"b\":0},\"height\":600},                        {\"responsive\": true}                    ).then(function(){\n",
              "                            \n",
              "var gd = document.getElementById('79f8e17a-1659-4016-9774-32bd778432a5');\n",
              "var x = new MutationObserver(function (mutations, observer) {{\n",
              "        var display = window.getComputedStyle(gd).display;\n",
              "        if (!display || display === 'none') {{\n",
              "            console.log([gd, 'removed!']);\n",
              "            Plotly.purge(gd);\n",
              "            observer.disconnect();\n",
              "        }}\n",
              "}});\n",
              "\n",
              "// Listen for the removal of the full notebook cells\n",
              "var notebookContainer = gd.closest('#notebook-container');\n",
              "if (notebookContainer) {{\n",
              "    x.observe(notebookContainer, {childList: true});\n",
              "}}\n",
              "\n",
              "// Listen for the clearing of the current output cell\n",
              "var outputEl = gd.closest('.output');\n",
              "if (outputEl) {{\n",
              "    x.observe(outputEl, {childList: true});\n",
              "}}\n",
              "\n",
              "                        })                };                            </script>        </div>\n",
              "</body>\n",
              "</html>"
            ]
          },
          "metadata": {}
        }
      ]
    },
    {
      "cell_type": "code",
      "source": [
        "# prompt: calcula la distancia desde este punto de referencia 7.11711, -73.10501 agrega esta columna al df y elimina latitud y longitud\n",
        "\n",
        "# Punto de referencia\n",
        "referencia = (7.11711, -73.10501)\n",
        "\n",
        "# Calcular la distancia al punto de referencia\n",
        "df['distancia_referencia'] = df.apply(lambda row: geodesic(referencia, (row['latitud'], row['longitud'])).km, axis=1)\n",
        "\n",
        "# Eliminar columnas 'latitud' y 'longitud'\n",
        "df = df.drop(['latitud', 'longitud'], axis=1)\n",
        "\n",
        "print(df.head())\n"
      ],
      "metadata": {
        "id": "i4kHHK_ypOk7",
        "outputId": "71d74eb1-1cd0-40cc-d1e3-fd5e568b732f",
        "colab": {
          "base_uri": "https://localhost:8080/"
        }
      },
      "execution_count": 15,
      "outputs": [
        {
          "output_type": "stream",
          "name": "stdout",
          "text": [
            "    nombre  edad  nota_ia  distancia_bucaramanga  distancia_referencia\n",
            "0  Nombre0    22        5              12.521445             11.780995\n",
            "1  Nombre1    62        1               2.258798              3.361551\n",
            "2  Nombre2    49        1               6.392818              4.761647\n",
            "3  Nombre3    55        5               2.696465              1.654883\n",
            "4  Nombre4    50        5               6.793128              5.406427\n"
          ]
        }
      ]
    },
    {
      "cell_type": "markdown",
      "source": [
        "## <font color=\"red\">5.5 Visualización de Nuevas Características\n",
        "### <font color=\"blue\">5.5.1 Gráfico de características temporales y relaciones\n"
      ],
      "metadata": {
        "id": "ynnqul4OGAVa"
      }
    },
    {
      "cell_type": "code",
      "source": [
        "import seaborn as sns\n",
        "import matplotlib.pyplot as plt\n",
        "\n",
        "# Gráfico de Total por Mes\n",
        "sns.barplot(x=\"Mes\", y=\"Total\", data=data)\n",
        "plt.title(\"Total de Ventas por Mes\")\n",
        "plt.show()\n"
      ],
      "metadata": {
        "collapsed": true,
        "colab": {
          "base_uri": "https://localhost:8080/",
          "height": 356
        },
        "id": "PV8rgAeuGFui",
        "outputId": "d0f85525-8fee-4b43-deee-a7b63e2f95dc"
      },
      "execution_count": 7,
      "outputs": [
        {
          "output_type": "error",
          "ename": "ValueError",
          "evalue": "Could not interpret value `Mes` for `x`. An entry with this name does not appear in `data`.",
          "traceback": [
            "\u001b[0;31m---------------------------------------------------------------------------\u001b[0m",
            "\u001b[0;31mValueError\u001b[0m                                Traceback (most recent call last)",
            "\u001b[0;32m<ipython-input-7-635a3d31f6e2>\u001b[0m in \u001b[0;36m<cell line: 0>\u001b[0;34m()\u001b[0m\n\u001b[1;32m      3\u001b[0m \u001b[0;34m\u001b[0m\u001b[0m\n\u001b[1;32m      4\u001b[0m \u001b[0;31m# Gráfico de Total por Mes\u001b[0m\u001b[0;34m\u001b[0m\u001b[0;34m\u001b[0m\u001b[0m\n\u001b[0;32m----> 5\u001b[0;31m \u001b[0msns\u001b[0m\u001b[0;34m.\u001b[0m\u001b[0mbarplot\u001b[0m\u001b[0;34m(\u001b[0m\u001b[0mx\u001b[0m\u001b[0;34m=\u001b[0m\u001b[0;34m\"Mes\"\u001b[0m\u001b[0;34m,\u001b[0m \u001b[0my\u001b[0m\u001b[0;34m=\u001b[0m\u001b[0;34m\"Total\"\u001b[0m\u001b[0;34m,\u001b[0m \u001b[0mdata\u001b[0m\u001b[0;34m=\u001b[0m\u001b[0mdata\u001b[0m\u001b[0;34m)\u001b[0m\u001b[0;34m\u001b[0m\u001b[0;34m\u001b[0m\u001b[0m\n\u001b[0m\u001b[1;32m      6\u001b[0m \u001b[0mplt\u001b[0m\u001b[0;34m.\u001b[0m\u001b[0mtitle\u001b[0m\u001b[0;34m(\u001b[0m\u001b[0;34m\"Total de Ventas por Mes\"\u001b[0m\u001b[0;34m)\u001b[0m\u001b[0;34m\u001b[0m\u001b[0;34m\u001b[0m\u001b[0m\n\u001b[1;32m      7\u001b[0m \u001b[0mplt\u001b[0m\u001b[0;34m.\u001b[0m\u001b[0mshow\u001b[0m\u001b[0;34m(\u001b[0m\u001b[0;34m)\u001b[0m\u001b[0;34m\u001b[0m\u001b[0;34m\u001b[0m\u001b[0m\n",
            "\u001b[0;32m/usr/local/lib/python3.11/dist-packages/seaborn/categorical.py\u001b[0m in \u001b[0;36mbarplot\u001b[0;34m(data, x, y, hue, order, hue_order, estimator, errorbar, n_boot, seed, units, weights, orient, color, palette, saturation, fill, hue_norm, width, dodge, gap, log_scale, native_scale, formatter, legend, capsize, err_kws, ci, errcolor, errwidth, ax, **kwargs)\u001b[0m\n\u001b[1;32m   2339\u001b[0m         \u001b[0mestimator\u001b[0m \u001b[0;34m=\u001b[0m \u001b[0;34m\"size\"\u001b[0m\u001b[0;34m\u001b[0m\u001b[0;34m\u001b[0m\u001b[0m\n\u001b[1;32m   2340\u001b[0m \u001b[0;34m\u001b[0m\u001b[0m\n\u001b[0;32m-> 2341\u001b[0;31m     p = _CategoricalAggPlotter(\n\u001b[0m\u001b[1;32m   2342\u001b[0m         \u001b[0mdata\u001b[0m\u001b[0;34m=\u001b[0m\u001b[0mdata\u001b[0m\u001b[0;34m,\u001b[0m\u001b[0;34m\u001b[0m\u001b[0;34m\u001b[0m\u001b[0m\n\u001b[1;32m   2343\u001b[0m         \u001b[0mvariables\u001b[0m\u001b[0;34m=\u001b[0m\u001b[0mdict\u001b[0m\u001b[0;34m(\u001b[0m\u001b[0mx\u001b[0m\u001b[0;34m=\u001b[0m\u001b[0mx\u001b[0m\u001b[0;34m,\u001b[0m \u001b[0my\u001b[0m\u001b[0;34m=\u001b[0m\u001b[0my\u001b[0m\u001b[0;34m,\u001b[0m \u001b[0mhue\u001b[0m\u001b[0;34m=\u001b[0m\u001b[0mhue\u001b[0m\u001b[0;34m,\u001b[0m \u001b[0munits\u001b[0m\u001b[0;34m=\u001b[0m\u001b[0munits\u001b[0m\u001b[0;34m,\u001b[0m \u001b[0mweight\u001b[0m\u001b[0;34m=\u001b[0m\u001b[0mweights\u001b[0m\u001b[0;34m)\u001b[0m\u001b[0;34m,\u001b[0m\u001b[0;34m\u001b[0m\u001b[0;34m\u001b[0m\u001b[0m\n",
            "\u001b[0;32m/usr/local/lib/python3.11/dist-packages/seaborn/categorical.py\u001b[0m in \u001b[0;36m__init__\u001b[0;34m(self, data, variables, order, orient, require_numeric, color, legend)\u001b[0m\n\u001b[1;32m     65\u001b[0m     ):\n\u001b[1;32m     66\u001b[0m \u001b[0;34m\u001b[0m\u001b[0m\n\u001b[0;32m---> 67\u001b[0;31m         \u001b[0msuper\u001b[0m\u001b[0;34m(\u001b[0m\u001b[0;34m)\u001b[0m\u001b[0;34m.\u001b[0m\u001b[0m__init__\u001b[0m\u001b[0;34m(\u001b[0m\u001b[0mdata\u001b[0m\u001b[0;34m=\u001b[0m\u001b[0mdata\u001b[0m\u001b[0;34m,\u001b[0m \u001b[0mvariables\u001b[0m\u001b[0;34m=\u001b[0m\u001b[0mvariables\u001b[0m\u001b[0;34m)\u001b[0m\u001b[0;34m\u001b[0m\u001b[0;34m\u001b[0m\u001b[0m\n\u001b[0m\u001b[1;32m     68\u001b[0m \u001b[0;34m\u001b[0m\u001b[0m\n\u001b[1;32m     69\u001b[0m         \u001b[0;31m# This method takes care of some bookkeeping that is necessary because the\u001b[0m\u001b[0;34m\u001b[0m\u001b[0;34m\u001b[0m\u001b[0m\n",
            "\u001b[0;32m/usr/local/lib/python3.11/dist-packages/seaborn/_base.py\u001b[0m in \u001b[0;36m__init__\u001b[0;34m(self, data, variables)\u001b[0m\n\u001b[1;32m    632\u001b[0m         \u001b[0;31m# information for numeric axes would be information about log scales.\u001b[0m\u001b[0;34m\u001b[0m\u001b[0;34m\u001b[0m\u001b[0m\n\u001b[1;32m    633\u001b[0m         \u001b[0mself\u001b[0m\u001b[0;34m.\u001b[0m\u001b[0m_var_ordered\u001b[0m \u001b[0;34m=\u001b[0m \u001b[0;34m{\u001b[0m\u001b[0;34m\"x\"\u001b[0m\u001b[0;34m:\u001b[0m \u001b[0;32mFalse\u001b[0m\u001b[0;34m,\u001b[0m \u001b[0;34m\"y\"\u001b[0m\u001b[0;34m:\u001b[0m \u001b[0;32mFalse\u001b[0m\u001b[0;34m}\u001b[0m  \u001b[0;31m# alt., used DefaultDict\u001b[0m\u001b[0;34m\u001b[0m\u001b[0;34m\u001b[0m\u001b[0m\n\u001b[0;32m--> 634\u001b[0;31m         \u001b[0mself\u001b[0m\u001b[0;34m.\u001b[0m\u001b[0massign_variables\u001b[0m\u001b[0;34m(\u001b[0m\u001b[0mdata\u001b[0m\u001b[0;34m,\u001b[0m \u001b[0mvariables\u001b[0m\u001b[0;34m)\u001b[0m\u001b[0;34m\u001b[0m\u001b[0;34m\u001b[0m\u001b[0m\n\u001b[0m\u001b[1;32m    635\u001b[0m \u001b[0;34m\u001b[0m\u001b[0m\n\u001b[1;32m    636\u001b[0m         \u001b[0;31m# TODO Lots of tests assume that these are called to initialize the\u001b[0m\u001b[0;34m\u001b[0m\u001b[0;34m\u001b[0m\u001b[0m\n",
            "\u001b[0;32m/usr/local/lib/python3.11/dist-packages/seaborn/_base.py\u001b[0m in \u001b[0;36massign_variables\u001b[0;34m(self, data, variables)\u001b[0m\n\u001b[1;32m    677\u001b[0m             \u001b[0;31m# to centralize / standardize data consumption logic.\u001b[0m\u001b[0;34m\u001b[0m\u001b[0;34m\u001b[0m\u001b[0m\n\u001b[1;32m    678\u001b[0m             \u001b[0mself\u001b[0m\u001b[0;34m.\u001b[0m\u001b[0minput_format\u001b[0m \u001b[0;34m=\u001b[0m \u001b[0;34m\"long\"\u001b[0m\u001b[0;34m\u001b[0m\u001b[0;34m\u001b[0m\u001b[0m\n\u001b[0;32m--> 679\u001b[0;31m             \u001b[0mplot_data\u001b[0m \u001b[0;34m=\u001b[0m \u001b[0mPlotData\u001b[0m\u001b[0;34m(\u001b[0m\u001b[0mdata\u001b[0m\u001b[0;34m,\u001b[0m \u001b[0mvariables\u001b[0m\u001b[0;34m)\u001b[0m\u001b[0;34m\u001b[0m\u001b[0;34m\u001b[0m\u001b[0m\n\u001b[0m\u001b[1;32m    680\u001b[0m             \u001b[0mframe\u001b[0m \u001b[0;34m=\u001b[0m \u001b[0mplot_data\u001b[0m\u001b[0;34m.\u001b[0m\u001b[0mframe\u001b[0m\u001b[0;34m\u001b[0m\u001b[0;34m\u001b[0m\u001b[0m\n\u001b[1;32m    681\u001b[0m             \u001b[0mnames\u001b[0m \u001b[0;34m=\u001b[0m \u001b[0mplot_data\u001b[0m\u001b[0;34m.\u001b[0m\u001b[0mnames\u001b[0m\u001b[0;34m\u001b[0m\u001b[0;34m\u001b[0m\u001b[0m\n",
            "\u001b[0;32m/usr/local/lib/python3.11/dist-packages/seaborn/_core/data.py\u001b[0m in \u001b[0;36m__init__\u001b[0;34m(self, data, variables)\u001b[0m\n\u001b[1;32m     56\u001b[0m \u001b[0;34m\u001b[0m\u001b[0m\n\u001b[1;32m     57\u001b[0m         \u001b[0mdata\u001b[0m \u001b[0;34m=\u001b[0m \u001b[0mhandle_data_source\u001b[0m\u001b[0;34m(\u001b[0m\u001b[0mdata\u001b[0m\u001b[0;34m)\u001b[0m\u001b[0;34m\u001b[0m\u001b[0;34m\u001b[0m\u001b[0m\n\u001b[0;32m---> 58\u001b[0;31m         \u001b[0mframe\u001b[0m\u001b[0;34m,\u001b[0m \u001b[0mnames\u001b[0m\u001b[0;34m,\u001b[0m \u001b[0mids\u001b[0m \u001b[0;34m=\u001b[0m \u001b[0mself\u001b[0m\u001b[0;34m.\u001b[0m\u001b[0m_assign_variables\u001b[0m\u001b[0;34m(\u001b[0m\u001b[0mdata\u001b[0m\u001b[0;34m,\u001b[0m \u001b[0mvariables\u001b[0m\u001b[0;34m)\u001b[0m\u001b[0;34m\u001b[0m\u001b[0;34m\u001b[0m\u001b[0m\n\u001b[0m\u001b[1;32m     59\u001b[0m \u001b[0;34m\u001b[0m\u001b[0m\n\u001b[1;32m     60\u001b[0m         \u001b[0mself\u001b[0m\u001b[0;34m.\u001b[0m\u001b[0mframe\u001b[0m \u001b[0;34m=\u001b[0m \u001b[0mframe\u001b[0m\u001b[0;34m\u001b[0m\u001b[0;34m\u001b[0m\u001b[0m\n",
            "\u001b[0;32m/usr/local/lib/python3.11/dist-packages/seaborn/_core/data.py\u001b[0m in \u001b[0;36m_assign_variables\u001b[0;34m(self, data, variables)\u001b[0m\n\u001b[1;32m    230\u001b[0m                 \u001b[0;32melse\u001b[0m\u001b[0;34m:\u001b[0m\u001b[0;34m\u001b[0m\u001b[0;34m\u001b[0m\u001b[0m\n\u001b[1;32m    231\u001b[0m                     \u001b[0merr\u001b[0m \u001b[0;34m+=\u001b[0m \u001b[0;34m\"An entry with this name does not appear in `data`.\"\u001b[0m\u001b[0;34m\u001b[0m\u001b[0;34m\u001b[0m\u001b[0m\n\u001b[0;32m--> 232\u001b[0;31m                 \u001b[0;32mraise\u001b[0m \u001b[0mValueError\u001b[0m\u001b[0;34m(\u001b[0m\u001b[0merr\u001b[0m\u001b[0;34m)\u001b[0m\u001b[0;34m\u001b[0m\u001b[0;34m\u001b[0m\u001b[0m\n\u001b[0m\u001b[1;32m    233\u001b[0m \u001b[0;34m\u001b[0m\u001b[0m\n\u001b[1;32m    234\u001b[0m             \u001b[0;32melse\u001b[0m\u001b[0;34m:\u001b[0m\u001b[0;34m\u001b[0m\u001b[0;34m\u001b[0m\u001b[0m\n",
            "\u001b[0;31mValueError\u001b[0m: Could not interpret value `Mes` for `x`. An entry with this name does not appear in `data`."
          ]
        }
      ]
    },
    {
      "cell_type": "markdown",
      "source": [
        "### <font color=\"blue\">5.5.2 Gráfico de distribución geoespacial\n"
      ],
      "metadata": {
        "id": "uomni15xGIWy"
      }
    },
    {
      "cell_type": "code",
      "source": [
        "# Gráfico de puntos geográficos\n",
        "sns.scatterplot(x=\"Longitud\", y=\"Latitud\", size=\"Distancia_km\", data=data_geo, legend=False)\n",
        "plt.title(\"Distribución Geoespacial\")\n",
        "plt.show()\n"
      ],
      "metadata": {
        "collapsed": true,
        "colab": {
          "base_uri": "https://localhost:8080/",
          "height": 472
        },
        "id": "xuB4cUSQGK6i",
        "outputId": "459e1c42-3693-45d4-fd9e-8b74fd2fe638"
      },
      "execution_count": null,
      "outputs": [
        {
          "output_type": "display_data",
          "data": {
            "text/plain": [
              "<Figure size 640x480 with 1 Axes>"
            ],
            "image/png": "[encoded data removed]"
          },
          "metadata": {}
        }
      ]
    }
  ]
}